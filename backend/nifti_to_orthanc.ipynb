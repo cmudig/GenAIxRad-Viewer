{
  "cells": [
    {
      "cell_type": "markdown",
      "metadata": {},
      "source": [
        "# CT-Rate\n"
      ]
    },
    {
      "cell_type": "code",
      "execution_count": 2,
      "metadata": {},
      "outputs": [],
      "source": [
        "from dicom_helpers import nifti_to_dicom, add_metadata_to_series, add_metadata_to_study"
      ]
    },
    {
      "cell_type": "markdown",
      "metadata": {},
      "source": [
        "## Example 1\n",
        "- Calcification\n",
        "- Atelectasis\n",
        "- Opacity\n",
        "- Consolidation"
      ]
    },
    {
      "cell_type": "markdown",
      "metadata": {},
      "source": [
        "### Original\n"
      ]
    },
    {
      "cell_type": "code",
      "execution_count": 3,
      "metadata": {},
      "outputs": [
        {
          "name": "stdout",
          "output_type": "stream",
          "text": [
            "Store DICOM files in Folder: ../data/nifti/ct-rate/train/train_1_a_1\n",
            "Conversion complete. DICOM files are saved in ../data/nifti/ct-rate/train/train_1_a_1\n",
            "Deleted Study: 9a4454ac-bc732adf-25c4a3af-10c77925-9de83335\n",
            "Uploading DICOM folder to Orthanc...\n",
            "Files Uploaded to Orthanc Server Localhost\n"
          ]
        }
      ],
      "source": [
        "\n",
        "findings = \"Multiple venous collaterals are present in the anterior left chest wall and are associated with the anterior jugular vein at the level of the right sternoclavicular junction. Left subclavian vein collapsed (chronic occlusion pathology?). Trachea, both main bronchi are open. Calcific plaques are observed in the aortic arch. Other mediastinal main vascular structures, heart contour, size are normal. Thoracic aorta diameter is normal. Pericardial effusion-thickening was not observed. Thoracic esophagus calibration was normal and no significant tumoral wall thickening was detected. No enlarged lymph nodes in prevascular, pre-paratracheal, subcarinal or bilateral hilar-axillary pathological dimensions were detected. When examined in the lung parenchyma window; Linear atelectasis is present in both lung parenchyma. Subsegmental atelectasis is observed in the right middle lobe. Thickening of the bronchial wall and peribronchial budding tree-like reticulonodular densities are observed in the bilateral lower lobes. Peribronchial minimal consolidation is seen in the lower lobes in places. The findings were evaluated primarily in favor of the infectious process. The left kidney partially entering the section is atrophic. The right kidney could not be evaluated because it did not enter the section. Other upper abdominal organs included in the sections are normal. No space-occupying lesion was detected in the liver that entered the cross-sectional area. Bilateral adrenal glands were normal and no space-occupying lesion was detected. There are osteophytes with anterior extension in the thoracic vertebrae.\"\n",
        "impressions=\"Multiple venous collaterals in the anterior left chest wall and collapsed appearance in the left subclavian vein (chronic occlusion?).  Thickening of the bronchial wall in both lungs.  Peribronchial reticulonodular densities in the lower lobes, minimal consolidations (infection process?).  Atelectasis in both lungs.  Thoracic spondylosis.\"\n",
        "description=\"Calcification, Atelectasis, Opacity, Consolidation\"\n",
        "nifti_file = '../data/nifti/ct-rate/train/train_1_a_1.nii.gz'\n",
        "nifti_to_dicom(nifti_file=nifti_file,\n",
        "               series_description=\"Original\", \n",
        "               modality = \"CT\",\n",
        "               study_instance_uid='1.1',\n",
        "               series_instance_uid='1.1.1',\n",
        "               study_id='1', \n",
        "               patient_name=\"Example Patient 1\",\n",
        "               patient_id=\"train_1_a_1\",\n",
        "               description=description,\n",
        "               )\n",
        "\n",
        "add_metadata_to_study('1.1', findings, 'Findings')\n",
        "add_metadata_to_study('1.1', impressions, 'Impressions')"
      ]
    },
    {
      "cell_type": "markdown",
      "metadata": {},
      "source": [
        "### Generated"
      ]
    },
    {
      "cell_type": "code",
      "execution_count": 4,
      "metadata": {},
      "outputs": [
        {
          "name": "stdout",
          "output_type": "stream",
          "text": [
            "Store DICOM files in Folder: ../data/nifti/ct-rate/img_256_standard/train_1_a_1_sample_0\n",
            "Conversion complete. DICOM files are saved in ../data/nifti/ct-rate/img_256_standard/train_1_a_1_sample_0\n",
            "Deleted Study: 97265e43-0d353c37-3d27a9a5-05c2541d-fdd188b8\n",
            "Uploading DICOM folder to Orthanc...\n",
            "Files Uploaded to Orthanc Server Localhost\n",
            "97265e43-0d353c37-3d27a9a5-05c2541d-fdd188b8\n"
          ]
        }
      ],
      "source": [
        "prompt=\"Multiple venous collaterals in the anterior left chest wall and collapsed appearance in the left subclavian vein (chronic occlusion?).  Thickening of the bronchial wall in both lungs.  Peribronchial reticulonodular densities in the lower lobes, minimal consolidations (infection process?).  Atelectasis in both lungs.  Thoracic spondylosis.\"\n",
        "description=\"Calcification, Atelectasis, Opacity, Consolidation\"\n",
        "nifti_file = '../data/nifti/ct-rate/img_256_standard/train_1_a_1_sample_0.nii.gz'\n",
        "nifti_to_dicom(nifti_file=nifti_file,\n",
        "               series_description=\"Generated, 1\", \n",
        "               modality = \"AI\",\n",
        "               study_instance_uid='1.1',\n",
        "               series_instance_uid='1.1.2',\n",
        "               study_id='2', \n",
        "               patient_name=\"Example Patient 1\",\n",
        "               patient_id=\"train_1_a_1\",\n",
        "               description=description,\n",
        ")\n",
        "add_metadata_to_series('1.1.2', prompt, 'SeriesPrompt')"
      ]
    },
    {
      "cell_type": "code",
      "execution_count": 5,
      "metadata": {},
      "outputs": [
        {
          "name": "stdout",
          "output_type": "stream",
          "text": [
            "Store DICOM files in Folder: ../data/nifti/ct-rate/img_256_standard/train_1_a_1_sample_1\n",
            "Conversion complete. DICOM files are saved in ../data/nifti/ct-rate/img_256_standard/train_1_a_1_sample_1\n",
            "Deleted Study: 35fd8b02-62d06425-325bf754-a4a044d8-9f0364b0\n",
            "Uploading DICOM folder to Orthanc...\n",
            "Files Uploaded to Orthanc Server Localhost\n",
            "35fd8b02-62d06425-325bf754-a4a044d8-9f0364b0\n"
          ]
        }
      ],
      "source": [
        "prompt=\"Multiple venous collaterals in the anterior left chest wall and collapsed appearance in the left subclavian vein (chronic occlusion?).  Thickening of the bronchial wall in both lungs.  Peribronchial reticulonodular densities in the lower lobes, minimal consolidations (infection process?).  Atelectasis in both lungs.  Thoracic spondylosis.\"\n",
        "description=\"Calcification, Atelectasis, Opacity, Consolidation\"\n",
        "nifti_file = '../data/nifti/ct-rate/img_256_standard/train_1_a_1_sample_1.nii.gz'\n",
        "nifti_to_dicom(nifti_file=nifti_file, \n",
        "               series_description=\"Generated, 2\", \n",
        "               modality = \"AI\",\n",
        "               study_instance_uid='1.1',\n",
        "               series_instance_uid='1.1.3',\n",
        "               study_id='3', \n",
        "               patient_name=\"Example Patient 1\",\n",
        "               patient_id=\"train_1_a_1\",\n",
        "               description=description,\n",
        ")\n",
        "\n",
        "add_metadata_to_series('1.1.3', prompt, 'SeriesPrompt')"
      ]
    },
    {
      "cell_type": "code",
      "execution_count": 6,
      "metadata": {},
      "outputs": [
        {
          "name": "stdout",
          "output_type": "stream",
          "text": [
            "Store DICOM files in Folder: ../data/nifti/ct-rate/img_256_standard/train_1_a_1_sample_2\n",
            "Conversion complete. DICOM files are saved in ../data/nifti/ct-rate/img_256_standard/train_1_a_1_sample_2\n",
            "Deleted Study: 4be1d0e3-f5ab6fdc-24f2df0c-7f6cfe46-997fdaf4\n",
            "Uploading DICOM folder to Orthanc...\n",
            "Files Uploaded to Orthanc Server Localhost\n",
            "4be1d0e3-f5ab6fdc-24f2df0c-7f6cfe46-997fdaf4\n"
          ]
        }
      ],
      "source": [
        "prompt=\"Multiple venous collaterals in the anterior left chest wall and collapsed appearance in the left subclavian vein (chronic occlusion?).  Thickening of the bronchial wall in both lungs.  Peribronchial reticulonodular densities in the lower lobes, minimal consolidations (infection process?).  Atelectasis in both lungs.  Thoracic spondylosis.\"\n",
        "description=\"Calcification, Atelectasis, Opacity, Consolidation\"\n",
        "nifti_file = '../data/nifti/ct-rate/img_256_standard/train_1_a_1_sample_2.nii.gz'\n",
        "nifti_to_dicom(nifti_file=nifti_file, \n",
        "               series_description=\"Generated, 3\", \n",
        "               modality = \"AI\",\n",
        "               study_instance_uid='1.1',\n",
        "               series_instance_uid='1.1.4',\n",
        "               study_id='4', \n",
        "               patient_name=\"Example Patient 1\",\n",
        "               patient_id=\"train_1_a_1\",\n",
        "               description=description,\n",
        ")\n",
        "add_metadata_to_series('1.1.4', prompt, 'SeriesPrompt')"
      ]
    },
    {
      "cell_type": "markdown",
      "metadata": {},
      "source": [
        "### Counterfactual"
      ]
    },
    {
      "cell_type": "code",
      "execution_count": 7,
      "metadata": {},
      "outputs": [
        {
          "name": "stdout",
          "output_type": "stream",
          "text": [
            "Store DICOM files in Folder: ../data/nifti/ct-rate/img_256_standard/train_1_a_1_counterf_1_sample_0\n",
            "Conversion complete. DICOM files are saved in ../data/nifti/ct-rate/img_256_standard/train_1_a_1_counterf_1_sample_0\n",
            "Deleted Study: 81585060-7833783d-9a089a6c-7c9d2fda-7be1ea99\n",
            "Uploading DICOM folder to Orthanc...\n",
            "Files Uploaded to Orthanc Server Localhost\n",
            "81585060-7833783d-9a089a6c-7c9d2fda-7be1ea99\n"
          ]
        }
      ],
      "source": [
        "prompt=\"Multiple venous collaterals in the anterior left chest wall and collapsed appearance in the left subclavian vein (chronic occlusion?).  No thickening of the bronchial wall.  Peribronchial reticulonodular densities in the lower lobes, minimal consolidations (infection process?).  Atelectasis in both lungs.  Thoracic spondylosis.\"\n",
        "description=\"Calcification, Atelectasis, Opacity, Consolidation\"\n",
        "nifti_file = '../data/nifti/ct-rate/img_256_standard/train_1_a_1_counterf_1_sample_0.nii.gz'\n",
        "nifti_to_dicom(nifti_file=nifti_file, \n",
        "               series_description=\"No Thickening (counterfactual 1)\", \n",
        "               modality = \"AI\",\n",
        "               study_instance_uid='1.1',\n",
        "               series_instance_uid='1.1.5',\n",
        "               study_id='5',\n",
        "               patient_name=\"Example Patient 1\",\n",
        "               patient_id=\"train_1_a_1\",\n",
        "               description=description,\n",
        ")\n",
        "add_metadata_to_series('1.1.5', prompt, 'SeriesPrompt')"
      ]
    },
    {
      "cell_type": "code",
      "execution_count": 8,
      "metadata": {},
      "outputs": [
        {
          "name": "stdout",
          "output_type": "stream",
          "text": [
            "Store DICOM files in Folder: ../data/nifti/ct-rate/img_256_standard/train_1_a_1_counterf_2_sample_0\n",
            "Conversion complete. DICOM files are saved in ../data/nifti/ct-rate/img_256_standard/train_1_a_1_counterf_2_sample_0\n",
            "Deleted Study: c772418f-783ee516-97dd3ff8-64d8da22-16814d47\n",
            "Uploading DICOM folder to Orthanc...\n",
            "Files Uploaded to Orthanc Server Localhost\n",
            "c772418f-783ee516-97dd3ff8-64d8da22-16814d47\n"
          ]
        }
      ],
      "source": [
        "prompt=\"Multiple venous collaterals in the anterior left chest wall and collapsed appearance in the left subclavian vein (chronic occlusion?).  Thickening of the bronchial wall in both lungs.  Peribronchial reticulonodular densities in the lower lobes, large consolidations (infection process?).  Atelectasis in both lungs.  Thoracic spondylosis.\"\n",
        "description=\"Calcification, Atelectasis, Opacity, Consolidation\"\n",
        "nifti_file = '../data/nifti/ct-rate/img_256_standard/train_1_a_1_counterf_2_sample_0.nii.gz'\n",
        "nifti_to_dicom(nifti_file=nifti_file, \n",
        "               series_description=\"Thickening (counterfactual 2)\", \n",
        "               modality = \"AI\",\n",
        "               study_instance_uid='1.1',\n",
        "               series_instance_uid='1.1.6',\n",
        "               study_id='6',\n",
        "               patient_name=\"Example Patient 1\",\n",
        "               patient_id=\"train_1_a_1\",\n",
        "               description=description,\n",
        ")\n",
        "add_metadata_to_series('1.1.6', prompt, 'SeriesPrompt')"
      ]
    },
    {
      "cell_type": "markdown",
      "metadata": {},
      "source": [
        "## Example 2\n",
        "- Calcification\n",
        "- Lymphadenopathy\n",
        "- Nodule\n",
        "- Opacity\n"
      ]
    },
    {
      "cell_type": "markdown",
      "metadata": {},
      "source": [
        "### Original "
      ]
    },
    {
      "cell_type": "code",
      "execution_count": 8,
      "metadata": {},
      "outputs": [
        {
          "name": "stdout",
          "output_type": "stream",
          "text": [
            "Store DICOM files in Folder: ../data/nifti/ct-rate/train/train_10_a_1\n"
          ]
        },
        {
          "ename": "KeyboardInterrupt",
          "evalue": "",
          "output_type": "error",
          "traceback": [
            "\u001b[0;31m---------------------------------------------------------------------------\u001b[0m",
            "\u001b[0;31mKeyboardInterrupt\u001b[0m                         Traceback (most recent call last)",
            "Cell \u001b[0;32mIn[8], line 5\u001b[0m\n\u001b[1;32m      3\u001b[0m description\u001b[39m=\u001b[39m \u001b[39m\"\u001b[39m\u001b[39mCalcification, Lymphadenopathy, Nodule, Opacity\u001b[39m\u001b[39m\"\u001b[39m\n\u001b[1;32m      4\u001b[0m nifti_file \u001b[39m=\u001b[39m \u001b[39m'\u001b[39m\u001b[39m../data/nifti/ct-rate/train/train_10_a_1.nii.gz\u001b[39m\u001b[39m'\u001b[39m\n\u001b[0;32m----> 5\u001b[0m nifti_to_dicom(nifti_file\u001b[39m=\u001b[39;49mnifti_file, \n\u001b[1;32m      6\u001b[0m                series_description\u001b[39m=\u001b[39;49m\u001b[39m\"\u001b[39;49m\u001b[39mOriginal\u001b[39;49m\u001b[39m\"\u001b[39;49m, \n\u001b[1;32m      7\u001b[0m                modality \u001b[39m=\u001b[39;49m \u001b[39m\"\u001b[39;49m\u001b[39mCT\u001b[39;49m\u001b[39m\"\u001b[39;49m,\n\u001b[1;32m      8\u001b[0m                study_instance_uid\u001b[39m=\u001b[39;49m\u001b[39m'\u001b[39;49m\u001b[39m1.2\u001b[39;49m\u001b[39m'\u001b[39;49m,\n\u001b[1;32m      9\u001b[0m                series_instance_uid\u001b[39m=\u001b[39;49m\u001b[39m'\u001b[39;49m\u001b[39m1.2.1\u001b[39;49m\u001b[39m'\u001b[39;49m,\n\u001b[1;32m     10\u001b[0m                study_id\u001b[39m=\u001b[39;49m\u001b[39m'\u001b[39;49m\u001b[39m1\u001b[39;49m\u001b[39m'\u001b[39;49m,\n\u001b[1;32m     11\u001b[0m                patient_name\u001b[39m=\u001b[39;49m\u001b[39m\"\u001b[39;49m\u001b[39mExample Patient 2\u001b[39;49m\u001b[39m\"\u001b[39;49m,\n\u001b[1;32m     12\u001b[0m                patient_id\u001b[39m=\u001b[39;49m\u001b[39m\"\u001b[39;49m\u001b[39mtrain_10_a_1\u001b[39;49m\u001b[39m\"\u001b[39;49m,\n\u001b[1;32m     13\u001b[0m                description\u001b[39m=\u001b[39;49m description,\n\u001b[1;32m     14\u001b[0m                )\n\u001b[1;32m     15\u001b[0m add_metadata_to_study(\u001b[39m'\u001b[39m\u001b[39m1.2\u001b[39m\u001b[39m'\u001b[39m, findings, \u001b[39m'\u001b[39m\u001b[39mFindings\u001b[39m\u001b[39m'\u001b[39m)\n\u001b[1;32m     16\u001b[0m add_metadata_to_study(\u001b[39m'\u001b[39m\u001b[39m1.2\u001b[39m\u001b[39m'\u001b[39m, impressions, \u001b[39m'\u001b[39m\u001b[39mImpressions\u001b[39m\u001b[39m'\u001b[39m)\n",
            "File \u001b[0;32m~/GenAIxRad-Viewer/backend/dicom_helpers.py:118\u001b[0m, in \u001b[0;36mnifti_to_dicom\u001b[0;34m(nifti_file, series_description, series_instance_uid, reference_dicom_file, modality, study_instance_uid, study_id, patient_name, patient_id, description)\u001b[0m\n\u001b[1;32m    114\u001b[0m     data \u001b[39m=\u001b[39m (data \u001b[39m-\u001b[39m np\u001b[39m.\u001b[39mmin(data)) \u001b[39m/\u001b[39m (np\u001b[39m.\u001b[39mmax(data) \u001b[39m-\u001b[39m\n\u001b[1;32m    115\u001b[0m                                     np\u001b[39m.\u001b[39mmin(data)) \u001b[39m*\u001b[39m \u001b[39m1624\u001b[39m \u001b[39m-\u001b[39m \u001b[39m1024\u001b[39m  \u001b[39m# from MedSyn Paper\u001b[39;00m\n\u001b[1;32m    116\u001b[0m \u001b[39melse\u001b[39;00m:\n\u001b[1;32m    117\u001b[0m     \u001b[39m# clipt to percentile, since data from CT-RATE has many outliers\u001b[39;00m\n\u001b[0;32m--> 118\u001b[0m     data \u001b[39m=\u001b[39m stats\u001b[39m.\u001b[39;49mmstats\u001b[39m.\u001b[39;49mwinsorize(data, limits\u001b[39m=\u001b[39;49m[\u001b[39m0.075\u001b[39;49m, \u001b[39m0.001\u001b[39;49m])\n\u001b[1;32m    119\u001b[0m     \u001b[39m# set window preset for original imges\u001b[39;00m\n\u001b[1;32m    120\u001b[0m     ds\u001b[39m.\u001b[39mWindowWidth \u001b[39m=\u001b[39m \u001b[39m1500\u001b[39m\n",
            "File \u001b[0;32m/opt/conda/lib/python3.10/site-packages/scipy/stats/_mstats_basic.py:2547\u001b[0m, in \u001b[0;36mwinsorize\u001b[0;34m(a, limits, inclusive, inplace, axis, nan_policy)\u001b[0m\n\u001b[1;32m   2545\u001b[0m \u001b[39mif\u001b[39;00m axis \u001b[39mis\u001b[39;00m \u001b[39mNone\u001b[39;00m:\n\u001b[1;32m   2546\u001b[0m     shp \u001b[39m=\u001b[39m a\u001b[39m.\u001b[39mshape\n\u001b[0;32m-> 2547\u001b[0m     \u001b[39mreturn\u001b[39;00m _winsorize1D(a\u001b[39m.\u001b[39;49mravel(), lolim, uplim, loinc, upinc,\n\u001b[1;32m   2548\u001b[0m                         contains_nan, nan_policy)\u001b[39m.\u001b[39mreshape(shp)\n\u001b[1;32m   2549\u001b[0m \u001b[39melse\u001b[39;00m:\n\u001b[1;32m   2550\u001b[0m     \u001b[39mreturn\u001b[39;00m ma\u001b[39m.\u001b[39mapply_along_axis(_winsorize1D, axis, a, lolim, uplim, loinc,\n\u001b[1;32m   2551\u001b[0m                                upinc, contains_nan, nan_policy)\n",
            "File \u001b[0;32m/opt/conda/lib/python3.10/site-packages/scipy/stats/_mstats_basic.py:2502\u001b[0m, in \u001b[0;36mwinsorize.<locals>._winsorize1D\u001b[0;34m(a, low_limit, up_limit, low_include, up_include, contains_nan, nan_policy)\u001b[0m\n\u001b[1;32m   2499\u001b[0m \u001b[39mdef\u001b[39;00m \u001b[39m_winsorize1D\u001b[39m(a, low_limit, up_limit, low_include, up_include,\n\u001b[1;32m   2500\u001b[0m                  contains_nan, nan_policy):\n\u001b[1;32m   2501\u001b[0m     n \u001b[39m=\u001b[39m a\u001b[39m.\u001b[39mcount()\n\u001b[0;32m-> 2502\u001b[0m     idx \u001b[39m=\u001b[39m a\u001b[39m.\u001b[39;49margsort()\n\u001b[1;32m   2503\u001b[0m     \u001b[39mif\u001b[39;00m contains_nan:\n\u001b[1;32m   2504\u001b[0m         nan_count \u001b[39m=\u001b[39m np\u001b[39m.\u001b[39mcount_nonzero(np\u001b[39m.\u001b[39misnan(a))\n",
            "File \u001b[0;32m/opt/conda/lib/python3.10/site-packages/numpy/ma/core.py:5584\u001b[0m, in \u001b[0;36mMaskedArray.argsort\u001b[0;34m(self, axis, kind, order, endwith, fill_value)\u001b[0m\n\u001b[1;32m   5581\u001b[0m         fill_value \u001b[39m=\u001b[39m maximum_fill_value(\u001b[39mself\u001b[39m)\n\u001b[1;32m   5583\u001b[0m filled \u001b[39m=\u001b[39m \u001b[39mself\u001b[39m\u001b[39m.\u001b[39mfilled(fill_value)\n\u001b[0;32m-> 5584\u001b[0m \u001b[39mreturn\u001b[39;00m filled\u001b[39m.\u001b[39;49margsort(axis\u001b[39m=\u001b[39;49maxis, kind\u001b[39m=\u001b[39;49mkind, order\u001b[39m=\u001b[39;49morder)\n",
            "\u001b[0;31mKeyboardInterrupt\u001b[0m: "
          ]
        }
      ],
      "source": [
        "\n",
        "findings = \"Trachea, both main bronchi are open. Mediastinal main vascular structures, heart contour, size are normal. Pericardial effusion-thickening was not observed. Calcific plaques are present in the coronary arteries. Thoracic esophagus calibration was normal and no significant pathological wall thickening was detected. Millimetric lymph nodes with a short axis not exceeding 1 cm are observed in the mediastinum. When examined in the lung parenchyma window; Widespread ground glass densities are observed in both lung parenchyma showing a tendency to central and peripheral fusion. A 5 mm calcific nodule was observed in the posterobasal region of the lower lobe of the right lung. A millimetric hypodense lesion was observed in segment 2 of the liver in the upper abdominal organs included in the sections. Bone structures in the study area are natural. Osteodegenerative changes are observed in the vertebrae.\"\n",
        "impressions=\"Findings compatible with Covid pneumonia  Aortic and coronary artery atherosclerosis  Hypodense lesion (cyst?) in liver segment 2\"\n",
        "description= \"Calcification, Lymphadenopathy, Nodule, Opacity\"\n",
        "nifti_file = '../data/nifti/ct-rate/train/train_10_a_1.nii.gz'\n",
        "nifti_to_dicom(nifti_file=nifti_file, \n",
        "               series_description=\"Original\", \n",
        "               modality = \"CT\",\n",
        "               study_instance_uid='1.2',\n",
        "               series_instance_uid='1.2.1',\n",
        "               study_id='1',\n",
        "               patient_name=\"Example Patient 2\",\n",
        "               patient_id=\"train_10_a_1\",\n",
        "               description= description,\n",
        "               )\n",
        "add_metadata_to_study('1.2', findings, 'Findings')\n",
        "add_metadata_to_study('1.2', impressions, 'Impressions')"
      ]
    },
    {
      "cell_type": "markdown",
      "metadata": {},
      "source": [
        "### Generated"
      ]
    },
    {
      "cell_type": "code",
      "execution_count": null,
      "metadata": {},
      "outputs": [],
      "source": [
        "prompt=\" Findings compatible with Covid pneumonia  Aortic and coronary artery atherosclerosis  Hypodense lesion (cyst?) in liver segment 2\"\n",
        "description= \"Calcification, Lymphadenopathy, Nodule, Opacity\"\n",
        "nifti_file = '../data/nifti/ct-rate/img_256_standard/train_10_a_1_sample_0.nii.gz'\n",
        "nifti_to_dicom(nifti_file=nifti_file, \n",
        "               series_description=\"Generated, 1\", \n",
        "               modality = \"AI\",\n",
        "               study_instance_uid='1.2',\n",
        "               series_instance_uid='1.2.2',\n",
        "               study_id='2',\n",
        "               patient_name=\"Example Patient 2\",\n",
        "               patient_id=\"train_10_a_1\",\n",
        "               description= description,\n",
        "\n",
        "               )\n",
        "add_metadata_to_series('1.2.2', prompt, 'SeriesPrompt')"
      ]
    },
    {
      "cell_type": "markdown",
      "metadata": {},
      "source": [
        "# Example 3\n",
        "- Effusion\n",
        "- Emphysema\n",
        "- Atelectasis\n",
        "- Lung nodule\n",
        "- Consolidation\n"
      ]
    },
    {
      "cell_type": "markdown",
      "metadata": {},
      "source": [
        "### Original "
      ]
    },
    {
      "cell_type": "code",
      "execution_count": null,
      "metadata": {},
      "outputs": [
        {
          "name": "stdout",
          "output_type": "stream",
          "text": [
            "Store DICOM files in Folder: ../data/nifti/ct-rate/train/train_100_a_1\n",
            "Conversion complete. DICOM files are saved in ../data/nifti/ct-rate/train/train_100_a_1\n",
            "Deleted Study: d9816a11-24e81c35-5665d21c-b96c57f2-5528d013\n",
            "Uploading DICOM folder to Orthanc...\n",
            "Files Uploaded to Orthanc Server Localhost\n"
          ]
        }
      ],
      "source": [
        "\n",
        "findings = \"A central venous catheter inserted from the right was observed. Trachea and both main bronchi are open and no obstructive pathology is detected. Mediastinal vascular structures and cardiac examination could not be evaluated optimally due to the lack of contrast. The pulmonary trunk caliber was measured at 30 mm and was wider than normal. Heart contour, the size is natural. There is minimal pericardial effusion. The effusion measuring approximately 80 mm in size is observed on the right. There is an area of increased density in the lung parenchyma adjacent to the effusion, which is considered secondary to compressive atelectasis. No pathological increase in wall thickness was observed in the thoracic esophagus. In the mediastinum, in both axillary regions and in the supraclavicular fossa, no lymph nodes were observed in pathological size and appearance. In the lower lobe of the left lung, there is an area of increase in density consistent with the consolidation observed in the air bronchograms. Although the appearance may be secondary to atelectasis, underlying pneumonic infiltration cannot be excluded. It is recommended to be evaluated together with clinical and laboratory findings. No mass lesion was observed in both lungs. There are a few millimetric nodules in the left lung, the largest of which is 5.5x3.5 mm in the upper lobe inferior lingular segment. Emphysematous changes were observed in both lungs. There are findings consistent with peritoneal carcinomatosis in the upper abdominal sections within the image, and hypodense lesions in the liver and spleen parenchyma that cannot be characterized in this examination. No lytic or destructive lesions were detected in the bone structures within the image.\"\n",
        "impressions=\"Right pleural effusion, area of increased density in the adjacent lung parenchyma evaluated in favor of compressive atelectasis.  Density increase area in the lower lobe of the left lung consistent with the consolidation observed in air bronchograms; Pneumonic infiltration, which may be related to atelectasis, cannot be excluded. It is recommended to be evaluated together with clinical and laboratory findings.  A few millimetric nodules in the left lung.\"\n",
        "description= \"Effusion, Emphysema, Atelectasis, Lung nodule, Consolidation\"\n",
        "nifti_file = '../data/nifti/ct-rate/train/train_100_a_1.nii.gz'\n",
        "nifti_to_dicom(nifti_file=nifti_file, \n",
        "               series_description=\"Original\", \n",
        "               modality = \"CT\",\n",
        "               study_instance_uid='1.3',\n",
        "               series_instance_uid='1.3.1',\n",
        "               study_id='1',\n",
        "               patient_name=\"Example Patient 3\",\n",
        "               patient_id=\"train_100_a_1\",\n",
        "               description= description,\n",
        "               )\n",
        "add_metadata_to_study('1.3', findings, 'Findings')\n",
        "add_metadata_to_study('1.3', impressions, 'Impressions')"
      ]
    },
    {
      "cell_type": "markdown",
      "metadata": {},
      "source": [
        "### Generated"
      ]
    },
    {
      "cell_type": "code",
      "execution_count": null,
      "metadata": {},
      "outputs": [
        {
          "name": "stdout",
          "output_type": "stream",
          "text": [
            "Store DICOM files in Folder: ../data/nifti/ct-rate/img_256_standard/train_100_a_1_sample_0\n"
          ]
        },
        {
          "ename": "FileNotFoundError",
          "evalue": "No such file or no access: '../data/nifti/ct-rate/img_256_standard/train_100_a_1_sample_0.nii.gz'",
          "output_type": "error",
          "traceback": [
            "\u001b[0;31m---------------------------------------------------------------------------\u001b[0m",
            "\u001b[0;31mFileNotFoundError\u001b[0m                         Traceback (most recent call last)",
            "\u001b[0;32m~/opt/anaconda3/lib/python3.9/site-packages/nibabel/loadsave.py\u001b[0m in \u001b[0;36mload\u001b[0;34m(filename, **kwargs)\u001b[0m\n\u001b[1;32m     99\u001b[0m     \u001b[0;32mtry\u001b[0m\u001b[0;34m:\u001b[0m\u001b[0;34m\u001b[0m\u001b[0;34m\u001b[0m\u001b[0m\n\u001b[0;32m--> 100\u001b[0;31m         \u001b[0mstat_result\u001b[0m \u001b[0;34m=\u001b[0m \u001b[0mos\u001b[0m\u001b[0;34m.\u001b[0m\u001b[0mstat\u001b[0m\u001b[0;34m(\u001b[0m\u001b[0mfilename\u001b[0m\u001b[0;34m)\u001b[0m\u001b[0;34m\u001b[0m\u001b[0;34m\u001b[0m\u001b[0m\n\u001b[0m\u001b[1;32m    101\u001b[0m     \u001b[0;32mexcept\u001b[0m \u001b[0mOSError\u001b[0m\u001b[0;34m:\u001b[0m\u001b[0;34m\u001b[0m\u001b[0;34m\u001b[0m\u001b[0m\n",
            "\u001b[0;31mFileNotFoundError\u001b[0m: [Errno 2] No such file or directory: '../data/nifti/ct-rate/img_256_standard/train_100_a_1_sample_0.nii.gz'",
            "\nDuring handling of the above exception, another exception occurred:\n",
            "\u001b[0;31mFileNotFoundError\u001b[0m                         Traceback (most recent call last)",
            "\u001b[0;32m/var/folders/9y/9slzb91s0g7cj98ct223mhsw0000gr/T/ipykernel_65824/2470691917.py\u001b[0m in \u001b[0;36m<module>\u001b[0;34m\u001b[0m\n\u001b[1;32m      2\u001b[0m \u001b[0mdescription\u001b[0m\u001b[0;34m=\u001b[0m \u001b[0;34m\"Effusion, Emphysema, Atelectasis, Lung nodule, Consolidation\"\u001b[0m\u001b[0;34m\u001b[0m\u001b[0;34m\u001b[0m\u001b[0m\n\u001b[1;32m      3\u001b[0m \u001b[0mnifti_file\u001b[0m \u001b[0;34m=\u001b[0m \u001b[0;34m'../data/nifti/ct-rate/img_256_standard/train_100_a_1_sample_0.nii.gz'\u001b[0m\u001b[0;34m\u001b[0m\u001b[0;34m\u001b[0m\u001b[0m\n\u001b[0;32m----> 4\u001b[0;31m nifti_to_dicom(nifti_file=nifti_file, \n\u001b[0m\u001b[1;32m      5\u001b[0m                \u001b[0mseries_description\u001b[0m\u001b[0;34m=\u001b[0m\u001b[0;34m\"Generated, 1\"\u001b[0m\u001b[0;34m,\u001b[0m\u001b[0;34m\u001b[0m\u001b[0;34m\u001b[0m\u001b[0m\n\u001b[1;32m      6\u001b[0m                \u001b[0mmodality\u001b[0m \u001b[0;34m=\u001b[0m \u001b[0;34m\"AI\"\u001b[0m\u001b[0;34m,\u001b[0m\u001b[0;34m\u001b[0m\u001b[0;34m\u001b[0m\u001b[0m\n",
            "\u001b[0;32m~/Documents/GitHub/GenAIxRad-Viewer/backend/dicom_helpers.py\u001b[0m in \u001b[0;36mnifti_to_dicom\u001b[0;34m(nifti_file, series_description, series_instance_uid, reference_dicom_file, modality, study_instance_uid, study_id, patient_name, patient_id, description)\u001b[0m\n\u001b[1;32m     73\u001b[0m \u001b[0;34m\u001b[0m\u001b[0m\n\u001b[1;32m     74\u001b[0m     \u001b[0;31m# Load the NIfTI file\u001b[0m\u001b[0;34m\u001b[0m\u001b[0;34m\u001b[0m\u001b[0m\n\u001b[0;32m---> 75\u001b[0;31m     \u001b[0mimg\u001b[0m \u001b[0;34m=\u001b[0m \u001b[0mnib\u001b[0m\u001b[0;34m.\u001b[0m\u001b[0mload\u001b[0m\u001b[0;34m(\u001b[0m\u001b[0mnifti_file\u001b[0m\u001b[0;34m)\u001b[0m\u001b[0;34m\u001b[0m\u001b[0;34m\u001b[0m\u001b[0m\n\u001b[0m\u001b[1;32m     76\u001b[0m     \u001b[0mdata\u001b[0m \u001b[0;34m=\u001b[0m \u001b[0mimg\u001b[0m\u001b[0;34m.\u001b[0m\u001b[0mget_fdata\u001b[0m\u001b[0;34m(\u001b[0m\u001b[0;34m)\u001b[0m\u001b[0;34m\u001b[0m\u001b[0;34m\u001b[0m\u001b[0m\n\u001b[1;32m     77\u001b[0m     \u001b[0maffine\u001b[0m \u001b[0;34m=\u001b[0m \u001b[0mimg\u001b[0m\u001b[0;34m.\u001b[0m\u001b[0maffine\u001b[0m\u001b[0;34m\u001b[0m\u001b[0;34m\u001b[0m\u001b[0m\n",
            "\u001b[0;32m~/opt/anaconda3/lib/python3.9/site-packages/nibabel/loadsave.py\u001b[0m in \u001b[0;36mload\u001b[0;34m(filename, **kwargs)\u001b[0m\n\u001b[1;32m    100\u001b[0m         \u001b[0mstat_result\u001b[0m \u001b[0;34m=\u001b[0m \u001b[0mos\u001b[0m\u001b[0;34m.\u001b[0m\u001b[0mstat\u001b[0m\u001b[0;34m(\u001b[0m\u001b[0mfilename\u001b[0m\u001b[0;34m)\u001b[0m\u001b[0;34m\u001b[0m\u001b[0;34m\u001b[0m\u001b[0m\n\u001b[1;32m    101\u001b[0m     \u001b[0;32mexcept\u001b[0m \u001b[0mOSError\u001b[0m\u001b[0;34m:\u001b[0m\u001b[0;34m\u001b[0m\u001b[0;34m\u001b[0m\u001b[0m\n\u001b[0;32m--> 102\u001b[0;31m         \u001b[0;32mraise\u001b[0m \u001b[0mFileNotFoundError\u001b[0m\u001b[0;34m(\u001b[0m\u001b[0;34mf\"No such file or no access: '{filename}'\"\u001b[0m\u001b[0;34m)\u001b[0m\u001b[0;34m\u001b[0m\u001b[0;34m\u001b[0m\u001b[0m\n\u001b[0m\u001b[1;32m    103\u001b[0m     \u001b[0;32mif\u001b[0m \u001b[0mstat_result\u001b[0m\u001b[0;34m.\u001b[0m\u001b[0mst_size\u001b[0m \u001b[0;34m<=\u001b[0m \u001b[0;36m0\u001b[0m\u001b[0;34m:\u001b[0m\u001b[0;34m\u001b[0m\u001b[0;34m\u001b[0m\u001b[0m\n\u001b[1;32m    104\u001b[0m         \u001b[0;32mraise\u001b[0m \u001b[0mImageFileError\u001b[0m\u001b[0;34m(\u001b[0m\u001b[0;34mf\"Empty file: '{filename}'\"\u001b[0m\u001b[0;34m)\u001b[0m\u001b[0;34m\u001b[0m\u001b[0;34m\u001b[0m\u001b[0m\n",
            "\u001b[0;31mFileNotFoundError\u001b[0m: No such file or no access: '../data/nifti/ct-rate/img_256_standard/train_100_a_1_sample_0.nii.gz'"
          ]
        }
      ],
      "source": [
        "prompt=\"Right pleural effusion, area of increased density in the adjacent lung parenchyma evaluated in favor of compressive atelectasis.  Density increase area in the lower lobe of the left lung consistent with the consolidation observed in air bronchograms; Pneumonic infiltration, which may be related to atelectasis, cannot be excluded. It is recommended to be evaluated together with clinical and laboratory findings.  A few millimetric nodules in the left lung.\"\n",
        "description= \"Effusion, Emphysema, Atelectasis, Lung nodule, Consolidation\" #random whatever you want to call it\n",
        "nifti_file = '../data/nifti/ct-rate/img_256_standard/train_100_a_1_sample_0.nii.gz' #image file path that you generated \n",
        "nifti_to_dicom(nifti_file=nifti_file, \n",
        "               series_description=\"Generated, 1\", \n",
        "               modality = \"AI\",\n",
        "               study_instance_uid='1.3',\n",
        "               series_instance_uid='1.3.2',\n",
        "               study_id='2',\n",
        "               patient_name=\"Example Patient 3\",\n",
        "               patient_id=\"train_100_a_1\",\n",
        "               description= description,\n",
        "               ) #you can give it random stuff here as well \n",
        "add_metadata_to_series('1.3.2', prompt, 'SeriesPrompt')"
      ]
    },
    {
      "cell_type": "markdown",
      "metadata": {},
      "source": [
        "### Counterfactual"
      ]
    },
    {
      "cell_type": "code",
      "execution_count": null,
      "metadata": {},
      "outputs": [],
      "source": [
        "prompt=\"Right pleural effusion, area of increased density in the adjacent lung parenchyma evaluated in favor of compressive atelectasis.  Density increase area in the lower lobe of the left lung consistent with the consolidation observed in air bronchograms; Pneumonic infiltration, which may be related to atelectasis, cannot be excluded. It is recommended to be evaluated together with clinical and laboratory findings.\"\n",
        "description= \"Effusion, Emphysema, Atelectasis, Lung nodule, Consolidation\"\n",
        "nifti_file = '../data/nifti/ct-rate/img_256_standard/train_100_a_1_counterf_1_sample_0.nii.gz'\n",
        "nifti_to_dicom(nifti_file=nifti_file, \n",
        "               series_description=\"Generated, 2 (counterfactual)\", \n",
        "               modality = \"AI\",\n",
        "               study_instance_uid='1.3',\n",
        "               series_instance_uid='1.3.3',\n",
        "               study_id='3',\n",
        "               patient_name=\"Example Patient 3\",\n",
        "               patient_id=\"train_100_a_1\",\n",
        "               description= description,\n",
        "               )\n",
        "add_metadata_to_series('1.3.3', prompt, 'SeriesPrompt')"
      ]
    },
    {
      "cell_type": "markdown",
      "metadata": {},
      "source": [
        "# Example 4\n",
        "- Lung nodule\n"
      ]
    },
    {
      "cell_type": "markdown",
      "metadata": {},
      "source": [
        "### Original "
      ]
    },
    {
      "cell_type": "code",
      "execution_count": null,
      "metadata": {},
      "outputs": [
        {
          "name": "stdout",
          "output_type": "stream",
          "text": [
            "Store DICOM files in Folder: ../data/nifti/ct-rate/train/train_1000_a_1\n",
            "Conversion complete. DICOM files are saved in ../data/nifti/ct-rate/train/train_1000_a_1\n",
            "Uploading DICOM folder to Orthanc...\n",
            "Files Uploaded to Orthanc Server Localhost\n"
          ]
        }
      ],
      "source": [
        "findings = \"No lymph node was observed in the supraclavicular fossa and axilla in pathological size and appearance. Thyroid gland, left lobe and isthmus are operated. Heart dimensions and compartments appear natural. Pericardial effusion was not detected. Calibrations of mediastinal major vascular structures are natural. No pneumonic infiltration or consolidation area was detected in the lung parenchyma. No suspicious mass or nodular space-occupying lesion was observed in the lung parenchyma. There are a few nonspecific nodules less than 5 mm in diameter. In the evaluation of the upper abdominal organs, including the cross-section, there is a decrease in both kidney sizes and parenchyma thickness. No lytic-destructive lesions were detected in bone structures.\"\n",
        "impressions=\"Thoracic CT examination within normal limits. Decrease in both kidney sizes and parenchyma thickness. Partially thyroidectomized\"\n",
        "description= \"Lung nodule\"\n",
        "nifti_file = '../data/nifti/ct-rate/train/train_1000_a_1.nii.gz'\n",
        "\n",
        "\n",
        "nifti_to_dicom(nifti_file=nifti_file,\n",
        "               series_description=\"Original\", \n",
        "               modality = \"CT\",\n",
        "               study_instance_uid='1.4',\n",
        "               series_instance_uid='1.4.1',\n",
        "               study_id='1',\n",
        "               patient_name=\"Example Patient 4\",\n",
        "               patient_id=\"train_1000_a_1\",\n",
        "               description= description\n",
        "               )\n",
        "add_metadata_to_study('1.4', findings, 'Findings')\n",
        "add_metadata_to_study('1.4', impressions, 'Impressions')"
      ]
    },
    {
      "cell_type": "markdown",
      "metadata": {},
      "source": [
        "## Generated"
      ]
    },
    {
      "cell_type": "code",
      "execution_count": null,
      "metadata": {},
      "outputs": [],
      "source": [
        "prompt=\"Thoracic CT examination within normal limits. Decrease in both kidney sizes and parenchyma thickness. Partially thyroidectomized\"\n",
        "description= \"Lung nodule\"\n",
        "nifti_file = '../data/nifti/ct-rate/img_256_standard/train_1000_a_1_sample_0.nii.gz'\n",
        "output_folder = '../data/nifti/ct-rate/train/train_1000_a_1/generated/'\n",
        "\n",
        "nifti_to_dicom(nifti_file=nifti_file,\n",
        "               series_description=\"Generated, 1\", \n",
        "               modality = \"AI\",\n",
        "               study_instance_uid='1.4',\n",
        "               series_instance_uid='1.4.2',\n",
        "               study_id='2',\n",
        "               patient_name=\"Example Patient 4\",\n",
        "               patient_id=\"train_1000_a_1\",\n",
        "               description= description,\n",
        "               )\n",
        "add_metadata_to_series('1.4.2', prompt, 'SeriesPrompt')"
      ]
    },
    {
      "cell_type": "markdown",
      "metadata": {},
      "source": [
        "### Counterfactual"
      ]
    },
    {
      "cell_type": "code",
      "execution_count": null,
      "metadata": {},
      "outputs": [],
      "source": [
        "prompt=\"Thoracic CT examination within normal limits. Increase in both kidney sizes and parenchyma thickness. Partially thyroidectomized\"\n",
        "description= \"Lung nodule\"\n",
        "nifti_file = '../data/nifti/ct-rate/img_256_standard/train_1000_a_1_counterf_1_sample_0.nii.gz'\n",
        "\n",
        "\n",
        "nifti_to_dicom(nifti_file=nifti_file,\n",
        "               series_description=\"Generated, 2 (counterfactual)\", \n",
        "               modality = \"AI\",\n",
        "               study_instance_uid='1.4',\n",
        "               series_instance_uid='1.4.3',\n",
        "               study_id='3',\n",
        "               patient_name=\"Example Patient 4\",\n",
        "               patient_id=\"train_1000_a_1\",\n",
        "               description= description,\n",
        "               )\n",
        "add_metadata_to_series('1.4.3', prompt, 'SeriesPrompt')"
      ]
    },
    {
      "cell_type": "markdown",
      "metadata": {},
      "source": [
        "# Example 5\n",
        "- Calcification\n",
        "- Cardiomegaly\n",
        "- Pericardial effusion\n",
        "- Atelectasis\n",
        "- Pleural effusion"
      ]
    },
    {
      "cell_type": "markdown",
      "metadata": {},
      "source": [
        "### Original"
      ]
    },
    {
      "cell_type": "code",
      "execution_count": null,
      "metadata": {},
      "outputs": [],
      "source": [
        "findings = \"The examination of the patient was evaluated by comparing it with the previous pulmonary CT angiography examination. The cardiothoracic ratio increased in favor of the heart. Minimal pericardial and bilateral pleural effusion are observed. Millimetric calcific plaques follow in the aorta. Trachea and both main bronchi are open. No occlusive pathology was detected in the trachea and both main bronchi. No pathologically enlarged lymph nodes were detected in the mediastinum and hilar regions.3.2021. There is an area of atelectasis accompanied by volume loss in the lingular segment of the left lung upper lobe. There are significant increases in interlobular septal thickness in the lower lobes of both lungs on the left. No mass was detected in both lungs. No pathological wall thickness increase was observed in the esophagus within the sections. In the upper abdominal organs within the sections, no mass with distinguishable borders was detected as far as it can be observed within the borders of non-enhanced CT. No lytic-destructive lesions were detected in the bone structures within the sections.\"\n",
        "impressions=\"Cardiomegaly, minimal pericardial-pleural effusion. Consolidation areas in both lung lower lobes prominent on the left; is regressed. Atelectasis in the lingular segment of the left lung\"\n",
        "description= \"Calcification, Cardiomegaly, Pericardial effusion, Atelectasis, Pleural effusion\"\n",
        "nifti_file = '../data/nifti/ct-rate/train/train_1001_a_1.nii.gz'\n",
        "\n",
        "nifti_to_dicom(nifti_file=nifti_file, \n",
        "               series_description=\"Original\", \n",
        "               modality = \"CT\",\n",
        "               study_instance_uid='1.5',\n",
        "               series_instance_uid='1.5.1',\n",
        "               study_id='1',\n",
        "               patient_name=\"Example Patient 5\",\n",
        "               patient_id=\"train_1001_a_1\",\n",
        "               description= description,\n",
        "               )\n",
        "add_metadata_to_study('1.5', findings, 'Findings')\n",
        "add_metadata_to_study('1.5', impressions, 'Impressions')\n"
      ]
    },
    {
      "cell_type": "markdown",
      "metadata": {},
      "source": [
        "### Generated"
      ]
    },
    {
      "cell_type": "code",
      "execution_count": null,
      "metadata": {},
      "outputs": [],
      "source": [
        "prompt=\"Cardiomegaly, minimal pericardial-pleural effusion. Consolidation areas in both lung lower lobes prominent on the left; is regressed. Atelectasis in the lingular segment of the left lung\"\n",
        "description= \"Calcification, Cardiomegaly, Pericardial effusion, Atelectasis, Pleural effusion\"\n",
        "nifti_file = '../data/nifti/ct-rate/img_256_standard/train_1001_a_1_sample_0.nii.gz'\n",
        "\n",
        "nifti_to_dicom(nifti_file=nifti_file, \n",
        "               series_description=\"Generated, 1\", \n",
        "               modality = \"AI\",\n",
        "               study_instance_uid='1.5',\n",
        "               series_instance_uid='1.5.2',\n",
        "               study_id='2',\n",
        "               patient_name=\"Example Patient 5\",\n",
        "               patient_id=\"train_1001_a_1\",\n",
        "               description=description,\n",
        "               )\n",
        "add_metadata_to_series('1.5.2', prompt, 'SeriesPrompt')"
      ]
    },
    {
      "cell_type": "markdown",
      "metadata": {},
      "source": [
        "### Counterfactual"
      ]
    },
    {
      "cell_type": "code",
      "execution_count": null,
      "metadata": {},
      "outputs": [],
      "source": [
        "prompt=\"Cardiomegaly, no pericardial-pleural effusion. Consolidation areas in both lung lower lobes prominent on the left; is regressed. Atelectasis in the lingular segment of the left lung\"\n",
        "description= \"Calcification, Cardiomegaly, Pericardial effusion, Atelectasis, Pleural effusion\"\n",
        "nifti_file = '../data/nifti/ct-rate/img_256_standard/train_1001_a_1_counterf_1_sample_0.nii.gz'\n",
        "\n",
        "nifti_to_dicom(nifti_file=nifti_file, \n",
        "               series_description=\"Generated, 2 (counterfactual)\", \n",
        "               modality = \"AI\",\n",
        "               study_instance_uid='1.5',\n",
        "               series_instance_uid='1.5.3',\n",
        "               study_id='3',\n",
        "               patient_name=\"Example Patient 5\",\n",
        "               patient_id=\"train_1001_a_1\",\n",
        "               description=description,\n",
        "               )\n",
        "add_metadata_to_series('1.5.3', prompt, 'SeriesPrompt')"
      ]
    },
    {
      "cell_type": "code",
      "execution_count": null,
      "metadata": {},
      "outputs": [],
      "source": [
        "prompt=\"Arterial wall calcification, Coronary artery wall calcification, Hiatal hernia, Atelectasis, Lung opacity, Pulmonary fibrotic sequela, Peribronchial thickening, Consolidation, Bronchiectasis\"\n",
        "description= \"Calcification, Cardiomegaly, Pericardial effusion, Atelectasis, Pleural effusion\"\n",
        "nifti_file = '../data/nifti/ct-rate/img_256_standard/train_1001_a_1_counterf_2_sample_0.nii.gz'\n",
        "\n",
        "nifti_to_dicom(nifti_file=nifti_file,\n",
        "               series_description=\"Generated, 3 (counterfactual)\", \n",
        "               modality = \"AI\",\n",
        "               study_instance_uid='1.5',\n",
        "               series_instance_uid='1.5.4',\n",
        "               study_id='4',\n",
        "               patient_name=\"Example Patient 5\",\n",
        "               patient_id=\"train_1001_a_1\",\n",
        "               description=description,\n",
        "               )\n",
        "add_metadata_to_series('1.5.4', prompt, 'SeriesPrompt')"
      ]
    },
    {
      "cell_type": "markdown",
      "metadata": {},
      "source": [
        "# Example 6\n",
        "- Calcification\n",
        "- Atelectasis\n",
        "- Lung opacity\n",
        "- Consolidation"
      ]
    },
    {
      "cell_type": "markdown",
      "metadata": {},
      "source": [
        "### Original"
      ]
    },
    {
      "cell_type": "code",
      "execution_count": 3,
      "metadata": {},
      "outputs": [
        {
          "name": "stdout",
          "output_type": "stream",
          "text": [
            "Store DICOM files in Folder: ../data/nifti/ct-rate/train/train_101_a_1\n",
            "Conversion complete. DICOM files are saved in ../data/nifti/ct-rate/train/train_101_a_1\n",
            "Uploading DICOM folder to Orthanc...\n",
            "Files Uploaded to Orthanc Server Localhost\n",
            "There was a problem with your fetch operation: HTTPConnectionPool(host='localhost.com', port=80): Max retries exceeded with url: /studies/316b2002-a55e2144-07f3d906-ec116332-af65de2a/metadata/Findings (Caused by ConnectTimeoutError(<urllib3.connection.HTTPConnection object at 0x7fb0b04f9d50>, 'Connection to localhost.com timed out. (connect timeout=None)'))\n"
          ]
        },
        {
          "ename": "KeyboardInterrupt",
          "evalue": "",
          "output_type": "error",
          "traceback": [
            "\u001b[0;31m---------------------------------------------------------------------------\u001b[0m",
            "\u001b[0;31mKeyboardInterrupt\u001b[0m                         Traceback (most recent call last)",
            "Cell \u001b[0;32mIn[3], line 16\u001b[0m\n\u001b[1;32m      5\u001b[0m nifti_to_dicom(nifti_file\u001b[39m=\u001b[39mnifti_file, \n\u001b[1;32m      6\u001b[0m                series_description\u001b[39m=\u001b[39m\u001b[39m\"\u001b[39m\u001b[39mOriginal\u001b[39m\u001b[39m\"\u001b[39m, \n\u001b[1;32m      7\u001b[0m                modality \u001b[39m=\u001b[39m \u001b[39m\"\u001b[39m\u001b[39mCT\u001b[39m\u001b[39m\"\u001b[39m,\n\u001b[0;32m   (...)\u001b[0m\n\u001b[1;32m     13\u001b[0m                description\u001b[39m=\u001b[39mdescription,\n\u001b[1;32m     14\u001b[0m                )\n\u001b[1;32m     15\u001b[0m add_metadata_to_study(\u001b[39m'\u001b[39m\u001b[39m1.6\u001b[39m\u001b[39m'\u001b[39m, findings, \u001b[39m'\u001b[39m\u001b[39mFindings\u001b[39m\u001b[39m'\u001b[39m)\n\u001b[0;32m---> 16\u001b[0m add_metadata_to_study(\u001b[39m'\u001b[39;49m\u001b[39m1.6\u001b[39;49m\u001b[39m'\u001b[39;49m, impressions, \u001b[39m'\u001b[39;49m\u001b[39mImpressions\u001b[39;49m\u001b[39m'\u001b[39;49m)\n",
            "File \u001b[0;32m~/GenAIxRad-Viewer/backend/dicom_helpers.py:266\u001b[0m, in \u001b[0;36madd_metadata_to_study\u001b[0;34m(study_instance_uid, data, type)\u001b[0m\n\u001b[1;32m    261\u001b[0m url \u001b[39m=\u001b[39m \u001b[39mf\u001b[39m\u001b[39m'\u001b[39m\u001b[39mhttp://localhost.com/studies/\u001b[39m\u001b[39m{\u001b[39;00mstudy_id\u001b[39m}\u001b[39;00m\u001b[39m/metadata/\u001b[39m\u001b[39m{\u001b[39;00m\u001b[39mtype\u001b[39m\u001b[39m}\u001b[39;00m\u001b[39m'\u001b[39m\n\u001b[1;32m    262\u001b[0m headers \u001b[39m=\u001b[39m {\n\u001b[1;32m    263\u001b[0m     \u001b[39m'\u001b[39m\u001b[39mContent-Type\u001b[39m\u001b[39m'\u001b[39m: \u001b[39m'\u001b[39m\u001b[39mtext/plain\u001b[39m\u001b[39m'\u001b[39m  \u001b[39m# Ensure the server expects text/plain content type\u001b[39;00m\n\u001b[1;32m    264\u001b[0m }\n\u001b[0;32m--> 266\u001b[0m response \u001b[39m=\u001b[39m requests\u001b[39m.\u001b[39;49mput(url, headers\u001b[39m=\u001b[39;49mheaders, data\u001b[39m=\u001b[39;49mdata)\n\u001b[1;32m    268\u001b[0m \u001b[39mif\u001b[39;00m response\u001b[39m.\u001b[39mstatus_code \u001b[39m!=\u001b[39m \u001b[39m200\u001b[39m:\n\u001b[1;32m    269\u001b[0m     \u001b[39mprint\u001b[39m(\n\u001b[1;32m    270\u001b[0m         \u001b[39mf\u001b[39m\u001b[39m\"\u001b[39m\u001b[39mResponse not ok. Status: \u001b[39m\u001b[39m{\u001b[39;00mresponse\u001b[39m.\u001b[39mstatus_code\u001b[39m}\u001b[39;00m\u001b[39m, Response text: \u001b[39m\u001b[39m{\u001b[39;00mresponse\u001b[39m.\u001b[39mtext\u001b[39m}\u001b[39;00m\u001b[39m\"\u001b[39m)\n",
            "File \u001b[0;32m/opt/conda/lib/python3.10/site-packages/requests/api.py:130\u001b[0m, in \u001b[0;36mput\u001b[0;34m(url, data, **kwargs)\u001b[0m\n\u001b[1;32m    118\u001b[0m \u001b[39mdef\u001b[39;00m \u001b[39mput\u001b[39m(url, data\u001b[39m=\u001b[39m\u001b[39mNone\u001b[39;00m, \u001b[39m*\u001b[39m\u001b[39m*\u001b[39mkwargs):\n\u001b[1;32m    119\u001b[0m \u001b[39m    \u001b[39m\u001b[39mr\u001b[39m\u001b[39m\"\"\"Sends a PUT request.\u001b[39;00m\n\u001b[1;32m    120\u001b[0m \n\u001b[1;32m    121\u001b[0m \u001b[39m    :param url: URL for the new :class:`Request` object.\u001b[39;00m\n\u001b[0;32m   (...)\u001b[0m\n\u001b[1;32m    127\u001b[0m \u001b[39m    :rtype: requests.Response\u001b[39;00m\n\u001b[1;32m    128\u001b[0m \u001b[39m    \"\"\"\u001b[39;00m\n\u001b[0;32m--> 130\u001b[0m     \u001b[39mreturn\u001b[39;00m request(\u001b[39m\"\u001b[39;49m\u001b[39mput\u001b[39;49m\u001b[39m\"\u001b[39;49m, url, data\u001b[39m=\u001b[39;49mdata, \u001b[39m*\u001b[39;49m\u001b[39m*\u001b[39;49mkwargs)\n",
            "File \u001b[0;32m/opt/conda/lib/python3.10/site-packages/requests/api.py:59\u001b[0m, in \u001b[0;36mrequest\u001b[0;34m(method, url, **kwargs)\u001b[0m\n\u001b[1;32m     55\u001b[0m \u001b[39m# By using the 'with' statement we are sure the session is closed, thus we\u001b[39;00m\n\u001b[1;32m     56\u001b[0m \u001b[39m# avoid leaving sockets open which can trigger a ResourceWarning in some\u001b[39;00m\n\u001b[1;32m     57\u001b[0m \u001b[39m# cases, and look like a memory leak in others.\u001b[39;00m\n\u001b[1;32m     58\u001b[0m \u001b[39mwith\u001b[39;00m sessions\u001b[39m.\u001b[39mSession() \u001b[39mas\u001b[39;00m session:\n\u001b[0;32m---> 59\u001b[0m     \u001b[39mreturn\u001b[39;00m session\u001b[39m.\u001b[39;49mrequest(method\u001b[39m=\u001b[39;49mmethod, url\u001b[39m=\u001b[39;49murl, \u001b[39m*\u001b[39;49m\u001b[39m*\u001b[39;49mkwargs)\n",
            "File \u001b[0;32m/opt/conda/lib/python3.10/site-packages/requests/sessions.py:589\u001b[0m, in \u001b[0;36mSession.request\u001b[0;34m(self, method, url, params, data, headers, cookies, files, auth, timeout, allow_redirects, proxies, hooks, stream, verify, cert, json)\u001b[0m\n\u001b[1;32m    584\u001b[0m send_kwargs \u001b[39m=\u001b[39m {\n\u001b[1;32m    585\u001b[0m     \u001b[39m\"\u001b[39m\u001b[39mtimeout\u001b[39m\u001b[39m\"\u001b[39m: timeout,\n\u001b[1;32m    586\u001b[0m     \u001b[39m\"\u001b[39m\u001b[39mallow_redirects\u001b[39m\u001b[39m\"\u001b[39m: allow_redirects,\n\u001b[1;32m    587\u001b[0m }\n\u001b[1;32m    588\u001b[0m send_kwargs\u001b[39m.\u001b[39mupdate(settings)\n\u001b[0;32m--> 589\u001b[0m resp \u001b[39m=\u001b[39m \u001b[39mself\u001b[39;49m\u001b[39m.\u001b[39;49msend(prep, \u001b[39m*\u001b[39;49m\u001b[39m*\u001b[39;49msend_kwargs)\n\u001b[1;32m    591\u001b[0m \u001b[39mreturn\u001b[39;00m resp\n",
            "File \u001b[0;32m/opt/conda/lib/python3.10/site-packages/requests/sessions.py:703\u001b[0m, in \u001b[0;36mSession.send\u001b[0;34m(self, request, **kwargs)\u001b[0m\n\u001b[1;32m    700\u001b[0m start \u001b[39m=\u001b[39m preferred_clock()\n\u001b[1;32m    702\u001b[0m \u001b[39m# Send the request\u001b[39;00m\n\u001b[0;32m--> 703\u001b[0m r \u001b[39m=\u001b[39m adapter\u001b[39m.\u001b[39;49msend(request, \u001b[39m*\u001b[39;49m\u001b[39m*\u001b[39;49mkwargs)\n\u001b[1;32m    705\u001b[0m \u001b[39m# Total elapsed time of the request (approximately)\u001b[39;00m\n\u001b[1;32m    706\u001b[0m elapsed \u001b[39m=\u001b[39m preferred_clock() \u001b[39m-\u001b[39m start\n",
            "File \u001b[0;32m/opt/conda/lib/python3.10/site-packages/requests/adapters.py:667\u001b[0m, in \u001b[0;36mHTTPAdapter.send\u001b[0;34m(self, request, stream, timeout, verify, cert, proxies)\u001b[0m\n\u001b[1;32m    664\u001b[0m     timeout \u001b[39m=\u001b[39m TimeoutSauce(connect\u001b[39m=\u001b[39mtimeout, read\u001b[39m=\u001b[39mtimeout)\n\u001b[1;32m    666\u001b[0m \u001b[39mtry\u001b[39;00m:\n\u001b[0;32m--> 667\u001b[0m     resp \u001b[39m=\u001b[39m conn\u001b[39m.\u001b[39;49murlopen(\n\u001b[1;32m    668\u001b[0m         method\u001b[39m=\u001b[39;49mrequest\u001b[39m.\u001b[39;49mmethod,\n\u001b[1;32m    669\u001b[0m         url\u001b[39m=\u001b[39;49murl,\n\u001b[1;32m    670\u001b[0m         body\u001b[39m=\u001b[39;49mrequest\u001b[39m.\u001b[39;49mbody,\n\u001b[1;32m    671\u001b[0m         headers\u001b[39m=\u001b[39;49mrequest\u001b[39m.\u001b[39;49mheaders,\n\u001b[1;32m    672\u001b[0m         redirect\u001b[39m=\u001b[39;49m\u001b[39mFalse\u001b[39;49;00m,\n\u001b[1;32m    673\u001b[0m         assert_same_host\u001b[39m=\u001b[39;49m\u001b[39mFalse\u001b[39;49;00m,\n\u001b[1;32m    674\u001b[0m         preload_content\u001b[39m=\u001b[39;49m\u001b[39mFalse\u001b[39;49;00m,\n\u001b[1;32m    675\u001b[0m         decode_content\u001b[39m=\u001b[39;49m\u001b[39mFalse\u001b[39;49;00m,\n\u001b[1;32m    676\u001b[0m         retries\u001b[39m=\u001b[39;49m\u001b[39mself\u001b[39;49m\u001b[39m.\u001b[39;49mmax_retries,\n\u001b[1;32m    677\u001b[0m         timeout\u001b[39m=\u001b[39;49mtimeout,\n\u001b[1;32m    678\u001b[0m         chunked\u001b[39m=\u001b[39;49mchunked,\n\u001b[1;32m    679\u001b[0m     )\n\u001b[1;32m    681\u001b[0m \u001b[39mexcept\u001b[39;00m (ProtocolError, \u001b[39mOSError\u001b[39;00m) \u001b[39mas\u001b[39;00m err:\n\u001b[1;32m    682\u001b[0m     \u001b[39mraise\u001b[39;00m \u001b[39mConnectionError\u001b[39;00m(err, request\u001b[39m=\u001b[39mrequest)\n",
            "File \u001b[0;32m/opt/conda/lib/python3.10/site-packages/urllib3/connectionpool.py:716\u001b[0m, in \u001b[0;36mHTTPConnectionPool.urlopen\u001b[0;34m(self, method, url, body, headers, retries, redirect, assert_same_host, timeout, pool_timeout, release_conn, chunked, body_pos, **response_kw)\u001b[0m\n\u001b[1;32m    713\u001b[0m     \u001b[39mself\u001b[39m\u001b[39m.\u001b[39m_prepare_proxy(conn)\n\u001b[1;32m    715\u001b[0m \u001b[39m# Make the request on the httplib connection object.\u001b[39;00m\n\u001b[0;32m--> 716\u001b[0m httplib_response \u001b[39m=\u001b[39m \u001b[39mself\u001b[39;49m\u001b[39m.\u001b[39;49m_make_request(\n\u001b[1;32m    717\u001b[0m     conn,\n\u001b[1;32m    718\u001b[0m     method,\n\u001b[1;32m    719\u001b[0m     url,\n\u001b[1;32m    720\u001b[0m     timeout\u001b[39m=\u001b[39;49mtimeout_obj,\n\u001b[1;32m    721\u001b[0m     body\u001b[39m=\u001b[39;49mbody,\n\u001b[1;32m    722\u001b[0m     headers\u001b[39m=\u001b[39;49mheaders,\n\u001b[1;32m    723\u001b[0m     chunked\u001b[39m=\u001b[39;49mchunked,\n\u001b[1;32m    724\u001b[0m )\n\u001b[1;32m    726\u001b[0m \u001b[39m# If we're going to release the connection in ``finally:``, then\u001b[39;00m\n\u001b[1;32m    727\u001b[0m \u001b[39m# the response doesn't need to know about the connection. Otherwise\u001b[39;00m\n\u001b[1;32m    728\u001b[0m \u001b[39m# it will also try to release it and we'll have a double-release\u001b[39;00m\n\u001b[1;32m    729\u001b[0m \u001b[39m# mess.\u001b[39;00m\n\u001b[1;32m    730\u001b[0m response_conn \u001b[39m=\u001b[39m conn \u001b[39mif\u001b[39;00m \u001b[39mnot\u001b[39;00m release_conn \u001b[39melse\u001b[39;00m \u001b[39mNone\u001b[39;00m\n",
            "File \u001b[0;32m/opt/conda/lib/python3.10/site-packages/urllib3/connectionpool.py:416\u001b[0m, in \u001b[0;36mHTTPConnectionPool._make_request\u001b[0;34m(self, conn, method, url, timeout, chunked, **httplib_request_kw)\u001b[0m\n\u001b[1;32m    414\u001b[0m         conn\u001b[39m.\u001b[39mrequest_chunked(method, url, \u001b[39m*\u001b[39m\u001b[39m*\u001b[39mhttplib_request_kw)\n\u001b[1;32m    415\u001b[0m     \u001b[39melse\u001b[39;00m:\n\u001b[0;32m--> 416\u001b[0m         conn\u001b[39m.\u001b[39;49mrequest(method, url, \u001b[39m*\u001b[39;49m\u001b[39m*\u001b[39;49mhttplib_request_kw)\n\u001b[1;32m    418\u001b[0m \u001b[39m# We are swallowing BrokenPipeError (errno.EPIPE) since the server is\u001b[39;00m\n\u001b[1;32m    419\u001b[0m \u001b[39m# legitimately able to close the connection after sending a valid response.\u001b[39;00m\n\u001b[1;32m    420\u001b[0m \u001b[39m# With this behaviour, the received response is still readable.\u001b[39;00m\n\u001b[1;32m    421\u001b[0m \u001b[39mexcept\u001b[39;00m \u001b[39mBrokenPipeError\u001b[39;00m:\n\u001b[1;32m    422\u001b[0m     \u001b[39m# Python 3\u001b[39;00m\n",
            "File \u001b[0;32m/opt/conda/lib/python3.10/site-packages/urllib3/connection.py:244\u001b[0m, in \u001b[0;36mHTTPConnection.request\u001b[0;34m(self, method, url, body, headers)\u001b[0m\n\u001b[1;32m    242\u001b[0m \u001b[39mif\u001b[39;00m \u001b[39m\"\u001b[39m\u001b[39muser-agent\u001b[39m\u001b[39m\"\u001b[39m \u001b[39mnot\u001b[39;00m \u001b[39min\u001b[39;00m (six\u001b[39m.\u001b[39mensure_str(k\u001b[39m.\u001b[39mlower()) \u001b[39mfor\u001b[39;00m k \u001b[39min\u001b[39;00m headers):\n\u001b[1;32m    243\u001b[0m     headers[\u001b[39m\"\u001b[39m\u001b[39mUser-Agent\u001b[39m\u001b[39m\"\u001b[39m] \u001b[39m=\u001b[39m _get_default_user_agent()\n\u001b[0;32m--> 244\u001b[0m \u001b[39msuper\u001b[39;49m(HTTPConnection, \u001b[39mself\u001b[39;49m)\u001b[39m.\u001b[39;49mrequest(method, url, body\u001b[39m=\u001b[39;49mbody, headers\u001b[39m=\u001b[39;49mheaders)\n",
            "File \u001b[0;32m/opt/conda/lib/python3.10/http/client.py:1283\u001b[0m, in \u001b[0;36mHTTPConnection.request\u001b[0;34m(self, method, url, body, headers, encode_chunked)\u001b[0m\n\u001b[1;32m   1280\u001b[0m \u001b[39mdef\u001b[39;00m \u001b[39mrequest\u001b[39m(\u001b[39mself\u001b[39m, method, url, body\u001b[39m=\u001b[39m\u001b[39mNone\u001b[39;00m, headers\u001b[39m=\u001b[39m{}, \u001b[39m*\u001b[39m,\n\u001b[1;32m   1281\u001b[0m             encode_chunked\u001b[39m=\u001b[39m\u001b[39mFalse\u001b[39;00m):\n\u001b[1;32m   1282\u001b[0m \u001b[39m    \u001b[39m\u001b[39m\"\"\"Send a complete request to the server.\"\"\"\u001b[39;00m\n\u001b[0;32m-> 1283\u001b[0m     \u001b[39mself\u001b[39;49m\u001b[39m.\u001b[39;49m_send_request(method, url, body, headers, encode_chunked)\n",
            "File \u001b[0;32m/opt/conda/lib/python3.10/http/client.py:1329\u001b[0m, in \u001b[0;36mHTTPConnection._send_request\u001b[0;34m(self, method, url, body, headers, encode_chunked)\u001b[0m\n\u001b[1;32m   1325\u001b[0m \u001b[39mif\u001b[39;00m \u001b[39misinstance\u001b[39m(body, \u001b[39mstr\u001b[39m):\n\u001b[1;32m   1326\u001b[0m     \u001b[39m# RFC 2616 Section 3.7.1 says that text default has a\u001b[39;00m\n\u001b[1;32m   1327\u001b[0m     \u001b[39m# default charset of iso-8859-1.\u001b[39;00m\n\u001b[1;32m   1328\u001b[0m     body \u001b[39m=\u001b[39m _encode(body, \u001b[39m'\u001b[39m\u001b[39mbody\u001b[39m\u001b[39m'\u001b[39m)\n\u001b[0;32m-> 1329\u001b[0m \u001b[39mself\u001b[39;49m\u001b[39m.\u001b[39;49mendheaders(body, encode_chunked\u001b[39m=\u001b[39;49mencode_chunked)\n",
            "File \u001b[0;32m/opt/conda/lib/python3.10/http/client.py:1278\u001b[0m, in \u001b[0;36mHTTPConnection.endheaders\u001b[0;34m(self, message_body, encode_chunked)\u001b[0m\n\u001b[1;32m   1276\u001b[0m \u001b[39melse\u001b[39;00m:\n\u001b[1;32m   1277\u001b[0m     \u001b[39mraise\u001b[39;00m CannotSendHeader()\n\u001b[0;32m-> 1278\u001b[0m \u001b[39mself\u001b[39;49m\u001b[39m.\u001b[39;49m_send_output(message_body, encode_chunked\u001b[39m=\u001b[39;49mencode_chunked)\n",
            "File \u001b[0;32m/opt/conda/lib/python3.10/http/client.py:1038\u001b[0m, in \u001b[0;36mHTTPConnection._send_output\u001b[0;34m(self, message_body, encode_chunked)\u001b[0m\n\u001b[1;32m   1036\u001b[0m msg \u001b[39m=\u001b[39m \u001b[39mb\u001b[39m\u001b[39m\"\u001b[39m\u001b[39m\\r\u001b[39;00m\u001b[39m\\n\u001b[39;00m\u001b[39m\"\u001b[39m\u001b[39m.\u001b[39mjoin(\u001b[39mself\u001b[39m\u001b[39m.\u001b[39m_buffer)\n\u001b[1;32m   1037\u001b[0m \u001b[39mdel\u001b[39;00m \u001b[39mself\u001b[39m\u001b[39m.\u001b[39m_buffer[:]\n\u001b[0;32m-> 1038\u001b[0m \u001b[39mself\u001b[39;49m\u001b[39m.\u001b[39;49msend(msg)\n\u001b[1;32m   1040\u001b[0m \u001b[39mif\u001b[39;00m message_body \u001b[39mis\u001b[39;00m \u001b[39mnot\u001b[39;00m \u001b[39mNone\u001b[39;00m:\n\u001b[1;32m   1041\u001b[0m \n\u001b[1;32m   1042\u001b[0m     \u001b[39m# create a consistent interface to message_body\u001b[39;00m\n\u001b[1;32m   1043\u001b[0m     \u001b[39mif\u001b[39;00m \u001b[39mhasattr\u001b[39m(message_body, \u001b[39m'\u001b[39m\u001b[39mread\u001b[39m\u001b[39m'\u001b[39m):\n\u001b[1;32m   1044\u001b[0m         \u001b[39m# Let file-like take precedence over byte-like.  This\u001b[39;00m\n\u001b[1;32m   1045\u001b[0m         \u001b[39m# is needed to allow the current position of mmap'ed\u001b[39;00m\n\u001b[1;32m   1046\u001b[0m         \u001b[39m# files to be taken into account.\u001b[39;00m\n",
            "File \u001b[0;32m/opt/conda/lib/python3.10/http/client.py:976\u001b[0m, in \u001b[0;36mHTTPConnection.send\u001b[0;34m(self, data)\u001b[0m\n\u001b[1;32m    974\u001b[0m \u001b[39mif\u001b[39;00m \u001b[39mself\u001b[39m\u001b[39m.\u001b[39msock \u001b[39mis\u001b[39;00m \u001b[39mNone\u001b[39;00m:\n\u001b[1;32m    975\u001b[0m     \u001b[39mif\u001b[39;00m \u001b[39mself\u001b[39m\u001b[39m.\u001b[39mauto_open:\n\u001b[0;32m--> 976\u001b[0m         \u001b[39mself\u001b[39;49m\u001b[39m.\u001b[39;49mconnect()\n\u001b[1;32m    977\u001b[0m     \u001b[39melse\u001b[39;00m:\n\u001b[1;32m    978\u001b[0m         \u001b[39mraise\u001b[39;00m NotConnected()\n",
            "File \u001b[0;32m/opt/conda/lib/python3.10/site-packages/urllib3/connection.py:205\u001b[0m, in \u001b[0;36mHTTPConnection.connect\u001b[0;34m(self)\u001b[0m\n\u001b[1;32m    204\u001b[0m \u001b[39mdef\u001b[39;00m \u001b[39mconnect\u001b[39m(\u001b[39mself\u001b[39m):\n\u001b[0;32m--> 205\u001b[0m     conn \u001b[39m=\u001b[39m \u001b[39mself\u001b[39;49m\u001b[39m.\u001b[39;49m_new_conn()\n\u001b[1;32m    206\u001b[0m     \u001b[39mself\u001b[39m\u001b[39m.\u001b[39m_prepare_conn(conn)\n",
            "File \u001b[0;32m/opt/conda/lib/python3.10/site-packages/urllib3/connection.py:174\u001b[0m, in \u001b[0;36mHTTPConnection._new_conn\u001b[0;34m(self)\u001b[0m\n\u001b[1;32m    171\u001b[0m     extra_kw[\u001b[39m\"\u001b[39m\u001b[39msocket_options\u001b[39m\u001b[39m\"\u001b[39m] \u001b[39m=\u001b[39m \u001b[39mself\u001b[39m\u001b[39m.\u001b[39msocket_options\n\u001b[1;32m    173\u001b[0m \u001b[39mtry\u001b[39;00m:\n\u001b[0;32m--> 174\u001b[0m     conn \u001b[39m=\u001b[39m connection\u001b[39m.\u001b[39;49mcreate_connection(\n\u001b[1;32m    175\u001b[0m         (\u001b[39mself\u001b[39;49m\u001b[39m.\u001b[39;49m_dns_host, \u001b[39mself\u001b[39;49m\u001b[39m.\u001b[39;49mport), \u001b[39mself\u001b[39;49m\u001b[39m.\u001b[39;49mtimeout, \u001b[39m*\u001b[39;49m\u001b[39m*\u001b[39;49mextra_kw\n\u001b[1;32m    176\u001b[0m     )\n\u001b[1;32m    178\u001b[0m \u001b[39mexcept\u001b[39;00m SocketTimeout:\n\u001b[1;32m    179\u001b[0m     \u001b[39mraise\u001b[39;00m ConnectTimeoutError(\n\u001b[1;32m    180\u001b[0m         \u001b[39mself\u001b[39m,\n\u001b[1;32m    181\u001b[0m         \u001b[39m\"\u001b[39m\u001b[39mConnection to \u001b[39m\u001b[39m%s\u001b[39;00m\u001b[39m timed out. (connect timeout=\u001b[39m\u001b[39m%s\u001b[39;00m\u001b[39m)\u001b[39m\u001b[39m\"\u001b[39m\n\u001b[1;32m    182\u001b[0m         \u001b[39m%\u001b[39m (\u001b[39mself\u001b[39m\u001b[39m.\u001b[39mhost, \u001b[39mself\u001b[39m\u001b[39m.\u001b[39mtimeout),\n\u001b[1;32m    183\u001b[0m     )\n",
            "File \u001b[0;32m/opt/conda/lib/python3.10/site-packages/urllib3/util/connection.py:85\u001b[0m, in \u001b[0;36mcreate_connection\u001b[0;34m(address, timeout, source_address, socket_options)\u001b[0m\n\u001b[1;32m     83\u001b[0m     \u001b[39mif\u001b[39;00m source_address:\n\u001b[1;32m     84\u001b[0m         sock\u001b[39m.\u001b[39mbind(source_address)\n\u001b[0;32m---> 85\u001b[0m     sock\u001b[39m.\u001b[39;49mconnect(sa)\n\u001b[1;32m     86\u001b[0m     \u001b[39mreturn\u001b[39;00m sock\n\u001b[1;32m     88\u001b[0m \u001b[39mexcept\u001b[39;00m socket\u001b[39m.\u001b[39merror \u001b[39mas\u001b[39;00m e:\n",
            "\u001b[0;31mKeyboardInterrupt\u001b[0m: "
          ]
        }
      ],
      "source": [
        "findings = \"Trachea was in the midline of both main bronchi and no obstructive pathology was observed in the lumen. The mediastinum could not be evaluated optimally in the non-contrast examination. As far as can be seen; mediastinal main vascular structures, heart contour, size are normal. Pericardial effusion-thickening was not observed. Diffuse atherosclerotic wall calcifications were observed in the thoracic aorta and coronary arteries. Thoracic esophagus calibration was normal and no significant tumoral wall thickening was detected. Sliding type hiatal hernia was observed at the lower end of the esophagus. No pathologically enlarged lymph nodes were detected in the mediastinum. No lymph node was observed in pathological size and appearance in the supraclavicular and axillary fossa. When examined in the lung parenchyma window; In both lungs, ground-glass densities including central-peripheral, crazy paving pattern and consolidation areas showing signs of vascular enlargement were observed. The outlook is consistent with Covid-19 pneumonia. The right hemidiaphragm is elevated. Diffuse linear subsegmental atelectatic changes were observed in the middle and lower lobes of the right lung. There are segmental-subsegmental bronchiectatic changes and peribronchial thickening in both lungs. Sequelae thickening was observed in the posterocostal pleura in both hemithorax. No mass lesion with distinguishable borders was detected in both lungs. A hypodense lesion area of 21x20 mm was observed at the junction of segment 4A-8 at the level of the liver dome and could not be characterized in this examination. The gallbladder was not observed (operated). The right adrenal gland and right kidney were not observed (operated). Diffuse thickening was observed in the left adrenal gland. Within the sections, free fluid-pathological lymph node was not observed in the abdomen. Mild dextroscoliosis with left opening was observed at the thoracic level. At mid-thoracic level, a bridging spur formation is observed in the right anterolateral corners of the vertebrae. Vertebral corpus heights are preserved.\"\n",
        "impressions=\"Diffuse atherosclerotic wall calcifications in the thoracic aorta and coronary arteries.  Hiatal hernia.  Findings consistent with Covid-19 pneumonia in the lung parenchyma.  Elevation in the right hemidiaphragm, linear subsegmental atelectatic changes in the middle and lower lobes of the right lung.  Segmentary-subsegmentary tubular bronchiectasis, peribronchial thickening in both lungs.  Sequela thickening of posterocostal pleura in both hemithorax.  Hypodense lesion at the level of the liver dome (segment 4A-8 junction), which cannot be characterized in this examination.  Diffuse thickening of the left adrenal gland.  Spur formations bridging each other at the mid-thoracic level and mild dextroscoliosis with a secondary left-facing opening\"\n",
        "description=\"Calcification, Atelectasis, Lung opacity, Consolidation\"\n",
        "nifti_file = '../data/nifti/ct-rate/train/train_101_a_1.nii.gz'\n",
        "nifti_to_dicom(nifti_file=nifti_file, \n",
        "               series_description=\"Original\", \n",
        "               modality = \"CT\",\n",
        "               study_instance_uid='1.6',\n",
        "               series_instance_uid='1.6.1',\n",
        "               study_id='1',\n",
        "               patient_name=\"Example Patient 6\",\n",
        "               patient_id=\"train_101_a_1\",\n",
        "               description=description,\n",
        "               )\n",
        "add_metadata_to_study('1.6', findings, 'Findings')\n",
        "add_metadata_to_study('1.6', impressions, 'Impressions')"
      ]
    },
    {
      "cell_type": "markdown",
      "metadata": {},
      "source": [
        "### Generated"
      ]
    },
    {
      "cell_type": "code",
      "execution_count": null,
      "metadata": {},
      "outputs": [],
      "source": [
        "prompt=\"Diffuse atherosclerotic wall calcifications in the thoracic aorta and coronary arteries.  Hiatal hernia.  Findings consistent with Covid-19 pneumonia in the lung parenchyma.  Elevation in the right hemidiaphragm, linear subsegmental atelectatic changes in the middle and lower lobes of the right lung.  Segmentary-subsegmentary tubular bronchiectasis, peribronchial thickening in both lungs.  Sequela thickening of posterocostal pleura in both hemithorax.  Hypodense lesion at the level of the liver dome (segment 4A-8 junction), which cannot be characterized in this examination.  Diffuse thickening of the left adrenal gland.  Spur formations bridging each other at the mid-thoracic level and mild dextroscoliosis with a secondary left-facing opening\"\n",
        "description=\"Calcification, Atelectasis, Lung opacity, Consolidation\"\n",
        "nifti_file = '../data/nifti/ct-rate/img_256_standard/train_101_a_1_sample_0.nii.gz'\n",
        "\n",
        "nifti_to_dicom(nifti_file=nifti_file, \n",
        "               series_description=\"Generated, 1\", \n",
        "               modality = \"AI\",\n",
        "               study_instance_uid='1.6',\n",
        "               series_instance_uid='1.6.2',\n",
        "               study_id='2',\n",
        "               patient_name=\"Example Patient 6\",\n",
        "               patient_id=\"train_101_a_1\",\n",
        "               description=description,\n",
        "\n",
        "               )\n",
        "\n",
        "add_metadata_to_series('1.6.2', prompt, 'SeriesPrompt')"
      ]
    },
    {
      "cell_type": "markdown",
      "metadata": {},
      "source": [
        "# MedSyn Paper Examples"
      ]
    },
    {
      "cell_type": "code",
      "execution_count": null,
      "metadata": {},
      "outputs": [],
      "source": [
        "prompt=\"There is extensive consolidation seen. No evidence of cardiomegaly. No evidence of pleural effusion.\"\n",
        "description=\"extensive consolidation v2\"\n",
        "nifti_file = '../data/nifti/MedSynExamples/extensive_consolidation_v2_sample_0.nii.gz'\n",
        "\n",
        "nifti_to_dicom(nifti_file=nifti_file, \n",
        "               series_description=\"Generated, 1\", \n",
        "               modality = \"AI\",\n",
        "               study_instance_uid='2.1',\n",
        "               series_instance_uid='2.1.1',\n",
        "               study_id='1',\n",
        "               patient_name=\"MedSyn 1\",\n",
        "               patient_id=\"2_1\",\n",
        "               description=description,\n",
        "\n",
        "               )\n",
        "add_metadata_to_series('2.1.1', prompt, 'SeriesPrompt')"
      ]
    },
    {
      "cell_type": "code",
      "execution_count": null,
      "metadata": {},
      "outputs": [],
      "source": [
        "prompt=\"There are large pleural effusions seen. There is no airspace opacity or pneumothorax. There is no evidence of suspicious pulmonary nodule or mass.\"\n",
        "description=\"large effusion v1\"\n",
        "nifti_file = '../data/nifti/MedSynExamples/large_effusion_sample_0.nii.gz'\n",
        "\n",
        "nifti_to_dicom(nifti_file=nifti_file, \n",
        "               series_description=\"Generated, 1\", \n",
        "               modality = \"AI\",\n",
        "               study_instance_uid='2.2',\n",
        "               series_instance_uid='2.2.1',\n",
        "               study_id='1',\n",
        "               patient_name=\"MedSyn 2\",\n",
        "               patient_id=\"2_2\",\n",
        "               description=description,\n",
        "\n",
        "               )\n",
        "add_metadata_to_series('2.2.1', prompt, 'SeriesPrompt')"
      ]
    },
    {
      "cell_type": "code",
      "execution_count": null,
      "metadata": {},
      "outputs": [],
      "source": [
        "prompt=\"There are large pleural effusions seen. No evidence of cardiomegaly. No evidence of consolidation.\"\n",
        "description=\"large effusion v2\"\n",
        "nifti_file = '../data/nifti/MedSynExamples/large_effusion_v2_sample_0.nii.gz'\n",
        "\n",
        "nifti_to_dicom(nifti_file=nifti_file, \n",
        "               series_description=\"Generated, 1\", \n",
        "               modality = \"AI\",\n",
        "               study_instance_uid='2.3',\n",
        "               series_instance_uid='2.3.1',\n",
        "               study_id='1',\n",
        "               patient_name=\"MedSyn 3\",\n",
        "               patient_id=\"2_3\",\n",
        "               description=description,\n",
        "\n",
        "               )\n",
        "add_metadata_to_series('2.3.1', prompt, 'SeriesPrompt')"
      ]
    },
    {
      "cell_type": "code",
      "execution_count": null,
      "metadata": {},
      "outputs": [],
      "source": [
        "prompt=\"There are large pleural effusions seen. Moderate cardiomegaly. No evidence of consolidation.\"\n",
        "description=\"large effusion v2\"\n",
        "nifti_file = '../data/nifti/MedSynExamples/large_effusion_v2_counterfactual_1_sample_0.nii.gz'\n",
        "\n",
        "nifti_to_dicom(nifti_file=nifti_file, \n",
        "               series_description=\"Generated, 2 (counterfactual)\", \n",
        "               modality = \"AI\",\n",
        "               study_instance_uid='2.3',\n",
        "               series_instance_uid='2.3.2',\n",
        "               study_id='2',\n",
        "               patient_name=\"MedSyn 3\",\n",
        "               patient_id=\"2_3\",\n",
        "               description=description,\n",
        "\n",
        "               )\n",
        "add_metadata_to_series('2.3.2', prompt, 'SeriesPrompt')\n"
      ]
    },
    {
      "cell_type": "code",
      "execution_count": null,
      "metadata": {},
      "outputs": [],
      "source": [
        "prompt=\"There are large pleural effusions seen. No evidence of cardiomegaly. There is extensive consolidation seen.\"\n",
        "description=\"large effusion v2\"\n",
        "nifti_file = '../data/nifti/MedSynExamples/large_effusion_v2_counterfactual_2_sample_0.nii.gz'\n",
        "\n",
        "nifti_to_dicom(nifti_file=nifti_file, \n",
        "               series_description=\"Generated, 3\", \n",
        "               modality = \"AI\",\n",
        "               study_instance_uid='2.3',\n",
        "               series_instance_uid='2.3.3',\n",
        "               study_id='3',\n",
        "               patient_name=\"MedSyn 3\",\n",
        "               patient_id=\"2_3\",\n",
        "               description=description,\n",
        "\n",
        "               )\n",
        "add_metadata_to_series('2.3.3', prompt, 'SeriesPrompt')\n"
      ]
    },
    {
      "cell_type": "code",
      "execution_count": null,
      "metadata": {},
      "outputs": [],
      "source": [
        "prompt=\"No bullae, cystic lung disease, or CT findings of small airways disease.\"\n",
        "description=\"no bullae\"\n",
        "nifti_file = '../data/nifti/MedSynExamples/no_bullae_sample_0.nii.gz'\n",
        "\n",
        "nifti_to_dicom(nifti_file=nifti_file, \n",
        "               series_description=\"Generated, 1\", \n",
        "               modality = \"AI\",\n",
        "               study_instance_uid='2.4',\n",
        "               series_instance_uid='2.4.1',\n",
        "               study_id='1',\n",
        "               patient_name=\"MedSyn 4\",\n",
        "               patient_id=\"2_4\",\n",
        "               description=description,\n",
        "\n",
        "               )\n",
        "add_metadata_to_series('2.4.1', prompt, 'SeriesPrompt')"
      ]
    },
    {
      "cell_type": "code",
      "execution_count": null,
      "metadata": {},
      "outputs": [],
      "source": [
        "prompt=\"Emphysema is present with bullae. No cystic lung disease, or CT findings of small airways disease.\"\n",
        "description=\"with bullae\"\n",
        "nifti_file = '../data/nifti/MedSynExamples/with_bullae_sample_0.nii.gz'\n",
        "\n",
        "nifti_to_dicom(nifti_file=nifti_file, \n",
        "               series_description=\"Generated, 1\", \n",
        "               modality = \"AI\",\n",
        "               study_instance_uid='2.5',\n",
        "               series_instance_uid='2.5.1',\n",
        "               study_id='1',\n",
        "               patient_name=\"MedSyn 5\",\n",
        "               patient_id=\"2_5\",\n",
        "               description=description,\n",
        "\n",
        "               )\n",
        "add_metadata_to_series('2.5.1', prompt, 'SeriesPrompt')"
      ]
    },
    {
      "cell_type": "code",
      "execution_count": null,
      "metadata": {},
      "outputs": [],
      "source": [
        "prompt=\"There is no significant mediastinal lymphadenopathy. There is moderate cardiomegaly. The visualized upper abdominal organs are unremarkable. There is minimal perihepatic free fluid.\"\n",
        "description=\"with cardiomegaly v2\"\n",
        "nifti_file = '../data/nifti/MedSynExamples/with_cardiomegaly_v2_sample_0.nii.gz'\n",
        "\n",
        "nifti_to_dicom(nifti_file=nifti_file, \n",
        "               series_description=\"Generated, 1\", \n",
        "               modality = \"AI\",\n",
        "               study_instance_uid='2.6',\n",
        "               series_instance_uid='2.6.1',\n",
        "               study_id='1',\n",
        "               patient_name=\"MedSyn 6\",\n",
        "               patient_id=\"2_6\",\n",
        "               description=description,\n",
        "\n",
        "               )\n",
        "add_metadata_to_series('2.6.1', prompt, 'SeriesPrompt')"
      ]
    },
    {
      "cell_type": "code",
      "execution_count": null,
      "metadata": {},
      "outputs": [],
      "source": [
        "prompt=\"Lungs: There is pulmonary fibrosis present with honeycombing demonstrated involving a significant portion of the bilateral lower lung zones. There are small areas of honeycombing in the anterior lateral right lung apex. There is no focal consolidation or pulmonary mass lesion demonstrated. There are a few areas of groundglass opacity in the right lung present, but the major finding is the pulmonary fibrosis that is most significant in the basilar regions. Pleural spaces:  There are small bilateral pleural effusions. There are no areas of significant pleural thickening demonstrated. Mediastinum and Lymph Nodes:  There is no pathologic adenopathy demonstrated in the axilla, mediastinum, or hilar regions. Heart and vascular structures: There is cardiomegaly. There is a cardiac pacemaker in place. There are small areas of atherosclerotic disease present, likely to include in the coronary arteries. There is no aneurysmal dilatation of the thoracic aorta. There is no significant pericardial effusion. Esophagus and visualized portion of the gastrointestinal tract: There is a mildly dilated partially fluid-filled distal esophagus. This could represent a hiatal hernia. Osseous structures and chest wall:  Unremarkable without acute or significant non-degenerative abnormalities. Visualized portion of the lower neck:  No major abnormalities are demonstrated in the portion of the neck included on this chest CT scan. Visualized portion of the upper abdomen:  There is ascites present with a small amount of fluid surrounding the liver and spleen. There is significant pulmonary fibrosis present, with large areas of honeycombing present involving both lower lung zones. There are milder areas of abnormality in the subpleural right greater than left upper lung zones. There are mild areas of groundglass opacity in the right upper lung zone, but there is no consolidation in the lungs. There are no suspicious pulmonary mass lesions. There are very small bilateral pleural effusions. There is at least mild ascites seen in the portion of the upper abdomen included on this exam.\"\n",
        "description=\"with cardiomegaly v3\"\n",
        "nifti_file = '../data/nifti/MedSynExamples/with_cardiomegaly_v3_sample_0.nii.gz'\n",
        "\n",
        "nifti_to_dicom(nifti_file=nifti_file, \n",
        "               series_description=\"Generated, 1\", \n",
        "               modality = \"AI\",\n",
        "               study_instance_uid='2.7',\n",
        "               series_instance_uid='2.7.1',\n",
        "               study_id='1',\n",
        "               patient_name=\"MedSyn 7\",\n",
        "               patient_id=\"2_7\",\n",
        "               description=description,\n",
        "\n",
        "               )\n",
        "add_metadata_to_series('2.7.1', prompt, 'SeriesPrompt')"
      ]
    },
    {
      "cell_type": "markdown",
      "metadata": {},
      "source": [
        "# Pilot Study"
      ]
    },
    {
      "cell_type": "markdown",
      "metadata": {},
      "source": [
        "## Radiopedia"
      ]
    },
    {
      "cell_type": "code",
      "execution_count": null,
      "metadata": {},
      "outputs": [
        {
          "name": "stdout",
          "output_type": "stream",
          "text": [
            "Store DICOM files in Folder: ../data/nifti/ct-rate/train/train_1001_a_1\n"
          ]
        },
        {
          "name": "stderr",
          "output_type": "stream",
          "text": [
            "C:\\Users\\mot99\\AppData\\Roaming\\Python\\Python312\\site-packages\\pydicom\\valuerep.py:443: UserWarning: The value length (94) exceeds the maximum length of 64 allowed for VR LO.\n",
            "  warnings.warn(msg)\n"
          ]
        },
        {
          "name": "stdout",
          "output_type": "stream",
          "text": [
            "Conversion complete. DICOM files are saved in ../data/nifti/ct-rate/train/train_1001_a_1\n",
            "Uploading DICOM folder to Orthanc...\n",
            "Files Uploaded to Orthanc Server Localhost\n"
          ]
        }
      ],
      "source": [
        "findings = \"Minimal pericardial and bilateral pleural effusion are observed. Millimetric calcific plaques follow in the aorta.  No occlusive pathology was detected in the trachea and both main bronchi. There is an area of atelectasis accompanied by volume loss in the lingular segment of the left lung upper lobe. There are significant increases in interlobular septal thickness in the lower lobes of both lungs on the left. No mass was detected in both lungs. No pathological wall thickness increase was observed in the esophagus within the sections. No lytic-destructive lesions were detected in the bone structures within the sections.\"\n",
        "impressions=\"Cardiomegaly, minimal pericardial-pleural effusion. Consolidation areas in both lung lower lobes prominent on the left; is regressed. Atelectasis in the lingular segment of the left lung\"\n",
        "description= \"Arterial wall calcification, Cardiomegaly, Pericardial effusion, Atelectasis, Pleural effusion\"\n",
        "nifti_file = '../data/nifti/ct-rate/train/train_1001_a_1.nii.gz'\n",
        "\n",
        "nifti_to_dicom(nifti_file=nifti_file, \n",
        "               series_description=\"Original\", \n",
        "               modality = \"CT\",\n",
        "               study_instance_uid='3.1',\n",
        "               series_instance_uid='3.1.1',\n",
        "               study_id='1',\n",
        "               patient_name=\"Study Example 1\",\n",
        "               patient_id=\"train_1001_a_1_1\",\n",
        "               description= description,\n",
        "               )\n",
        "add_metadata_to_study('3.1', findings, 'Findings')\n",
        "add_metadata_to_study('3.1', impressions, 'Impressions')"
      ]
    },
    {
      "cell_type": "code",
      "execution_count": null,
      "metadata": {},
      "outputs": [
        {
          "name": "stdout",
          "output_type": "stream",
          "text": [
            "Store DICOM files in Folder: ../data/nifti/examples/3_1_2_sample_0\n",
            "Conversion complete. DICOM files are saved in ../data/nifti/examples/3_1_2_sample_0\n",
            "Uploading DICOM folder to Orthanc...\n",
            "Files Uploaded to Orthanc Server Localhost\n",
            "91c9b0af-f1c4b220-6a7e72b1-2bcef106-b4033d31\n"
          ]
        }
      ],
      "source": [
        "prompt= 'Cardiomegaly, minimal pericardial-pleural effusion.'\n",
        "description=\"\"\n",
        "nifti_file = '../data/nifti/examples/3_1_2_sample_0.nii.gz'\n",
        "\n",
        "nifti_to_dicom(nifti_file=nifti_file, \n",
        "               series_description=\"Cardiomegaly (generated)\", \n",
        "               modality = \"AI\",\n",
        "               study_instance_uid='3.1',\n",
        "               series_instance_uid='3.1.2',\n",
        "               study_id='2',\n",
        "               patient_name=\"Study Example 1\",\n",
        "               patient_id=\"train_1001_a_1_1\",\n",
        "               description=description,\n",
        "\n",
        "               )\n",
        "add_metadata_to_series('3.1.2', prompt, 'SeriesPrompt')"
      ]
    },
    {
      "cell_type": "code",
      "execution_count": null,
      "metadata": {},
      "outputs": [
        {
          "name": "stdout",
          "output_type": "stream",
          "text": [
            "Store DICOM files in Folder: ../data/nifti/examples/3_1_3_sample_0\n",
            "Conversion complete. DICOM files are saved in ../data/nifti/examples/3_1_3_sample_0\n",
            "Uploading DICOM folder to Orthanc...\n",
            "Files Uploaded to Orthanc Server Localhost\n",
            "b560f7a6-dcc0952f-e8031c93-4721622a-39028892\n"
          ]
        }
      ],
      "source": [
        "prompt= 'Consolidation areas in both lung lower lobes prominent.'\n",
        "description=\"\"\n",
        "nifti_file = '../data/nifti/examples/3_1_3_sample_0.nii.gz'\n",
        "\n",
        "nifti_to_dicom(nifti_file=nifti_file, \n",
        "               series_description=\"Consolidation (generated)\", \n",
        "               modality = \"AI\",\n",
        "               study_instance_uid='3.1',\n",
        "               series_instance_uid='3.1.3',\n",
        "               study_id='3',\n",
        "               patient_name=\"Study Example 1\",\n",
        "               patient_id=\"train_1001_a_1_1\",\n",
        "               description=description,\n",
        "\n",
        "               )\n",
        "add_metadata_to_series('3.1.3', prompt, 'SeriesPrompt')"
      ]
    },
    {
      "cell_type": "code",
      "execution_count": null,
      "metadata": {},
      "outputs": [
        {
          "name": "stdout",
          "output_type": "stream",
          "text": [
            "Store DICOM files in Folder: ../data/nifti/examples/3_1_4_sample_0\n",
            "Conversion complete. DICOM files are saved in ../data/nifti/examples/3_1_4_sample_0\n",
            "Uploading DICOM folder to Orthanc...\n",
            "Files Uploaded to Orthanc Server Localhost\n",
            "b645679c-2c0a23ae-8b87aa3a-d3801448-ba4ba0ce\n"
          ]
        }
      ],
      "source": [
        "prompt= 'Atelectasis in the lingular segment of the left lung.'\n",
        "description=\"\"\n",
        "nifti_file = '../data/nifti/examples/3_1_4_sample_0.nii.gz'\n",
        "\n",
        "nifti_to_dicom(nifti_file=nifti_file, \n",
        "               series_description=\"Atelectasis (generated)\", \n",
        "               modality = \"AI\",\n",
        "               study_instance_uid='3.1',\n",
        "               series_instance_uid='3.1.4',\n",
        "               study_id='4',\n",
        "               patient_name=\"Study Example 1\",\n",
        "               patient_id=\"train_1001_a_1_1\",\n",
        "               description=description,\n",
        "\n",
        "               )\n",
        "add_metadata_to_series('3.1.4', prompt, 'SeriesPrompt')"
      ]
    },
    {
      "cell_type": "code",
      "execution_count": null,
      "metadata": {},
      "outputs": [
        {
          "name": "stdout",
          "output_type": "stream",
          "text": [
            "Store DICOM files in Folder: ../data/nifti/ct-rate/img_256_standard/train_1001_a_1_sample_0\n",
            "Conversion complete. DICOM files are saved in ../data/nifti/ct-rate/img_256_standard/train_1001_a_1_sample_0\n",
            "Uploading DICOM folder to Orthanc...\n",
            "Files Uploaded to Orthanc Server Localhost\n",
            "826180be-cff708dd-69d6a2d8-9a4e9d0a-72fc416e\n"
          ]
        }
      ],
      "source": [
        "prompt=\"Cardiomegaly, minimal pericardial-pleural effusion. Consolidation areas in both lung lower lobes prominent on the left; is regressed. Atelectasis in the lingular segment of the left lung\"\n",
        "description=\"\"\n",
        "nifti_file = '../data/nifti/ct-rate/img_256_standard/train_1001_a_1_sample_0.nii.gz'\n",
        "\n",
        "nifti_to_dicom(nifti_file=nifti_file, \n",
        "               series_description=\"Generated, 1\", \n",
        "               modality = \"AI\",\n",
        "               study_instance_uid='3.1',\n",
        "               series_instance_uid='3.1.5',\n",
        "               study_id='5',\n",
        "               patient_name=\"Study Example 1\",\n",
        "               patient_id=\"train_1001_a_1_1\",\n",
        "               description=description,\n",
        "               )\n",
        "add_metadata_to_series('3.1.5', prompt, 'SeriesPrompt')"
      ]
    },
    {
      "cell_type": "markdown",
      "metadata": {},
      "source": [
        "## Counterfactual"
      ]
    },
    {
      "cell_type": "code",
      "execution_count": null,
      "metadata": {},
      "outputs": [
        {
          "name": "stdout",
          "output_type": "stream",
          "text": [
            "Store DICOM files in Folder: ../data/nifti/ct-rate/train/train_1001_a_1\n",
            "Conversion complete. DICOM files are saved in ../data/nifti/ct-rate/train/train_1001_a_1\n",
            "Uploading DICOM folder to Orthanc...\n",
            "Files Uploaded to Orthanc Server Localhost\n"
          ]
        }
      ],
      "source": [
        "findings = \"Minimal pericardial and bilateral pleural effusion are observed. Millimetric calcific plaques follow in the aorta.  No occlusive pathology was detected in the trachea and both main bronchi. There is an area of atelectasis accompanied by volume loss in the lingular segment of the left lung upper lobe. There are significant increases in interlobular septal thickness in the lower lobes of both lungs on the left. No mass was detected in both lungs. No pathological wall thickness increase was observed in the esophagus within the sections. No lytic-destructive lesions were detected in the bone structures within the sections.\"\n",
        "impressions=\"Cardiomegaly, minimal pericardial-pleural effusion. Consolidation areas in both lung lower lobes prominent on the left; is regressed. Atelectasis in the lingular segment of the left lung\"\n",
        "description= \"Arterial wall calcification, Cardiomegaly, Pericardial effusion, Atelectasis, Pleural effusion\"\n",
        "nifti_file = '../data/nifti/ct-rate/train/train_1001_a_1.nii.gz'\n",
        "\n",
        "nifti_to_dicom(nifti_file=nifti_file, \n",
        "               series_description=\"Original\", \n",
        "               modality = \"CT\",\n",
        "               study_instance_uid='3.2',\n",
        "               series_instance_uid='3.2.1',\n",
        "               study_id='1',\n",
        "               patient_name=\"Study Example 2\",\n",
        "               patient_id=\"train_1001_a_1_2\",\n",
        "               description= description,\n",
        "               )\n",
        "add_metadata_to_study('3.2', findings, 'Findings')\n",
        "add_metadata_to_study('3.2', impressions, 'Impressions')"
      ]
    },
    {
      "cell_type": "code",
      "execution_count": null,
      "metadata": {},
      "outputs": [
        {
          "name": "stdout",
          "output_type": "stream",
          "text": [
            "Store DICOM files in Folder: ../data/nifti/examples/3_2_2_sample_0\n",
            "Conversion complete. DICOM files are saved in ../data/nifti/examples/3_2_2_sample_0\n",
            "Uploading DICOM folder to Orthanc...\n",
            "Files Uploaded to Orthanc Server Localhost\n",
            "27727bf5-96263f3d-e41128cd-bbdc7464-a7c33514\n"
          ]
        }
      ],
      "source": [
        "prompt= 'Cardiomegaly, minimal pericardial-pleural effusion.'\n",
        "description=\"\"\n",
        "nifti_file = '../data/nifti/examples/3_2_2_sample_0.nii.gz'\n",
        "\n",
        "nifti_to_dicom(nifti_file=nifti_file, \n",
        "               series_description=\"Minimal Pericardial Effusion (generated)\", \n",
        "               modality = \"AI\",\n",
        "               study_instance_uid='3.2',\n",
        "               series_instance_uid='3.2.2',\n",
        "               study_id='2',\n",
        "               patient_name=\"Study Example 2\",\n",
        "               patient_id=\"train_1001_a_1_2\",\n",
        "               description=description,\n",
        "\n",
        "               )\n",
        "add_metadata_to_series('3.2.2', prompt, 'SeriesPrompt')"
      ]
    },
    {
      "cell_type": "code",
      "execution_count": null,
      "metadata": {},
      "outputs": [
        {
          "name": "stdout",
          "output_type": "stream",
          "text": [
            "Store DICOM files in Folder: ../data/nifti/examples/3_2_3_sample_0\n",
            "Conversion complete. DICOM files are saved in ../data/nifti/examples/3_2_3_sample_0\n",
            "Uploading DICOM folder to Orthanc...\n",
            "Files Uploaded to Orthanc Server Localhost\n",
            "c99533fe-32742974-cdf18ec7-4e226aad-220260c6\n"
          ]
        }
      ],
      "source": [
        "# Haluzination\n",
        "prompt= 'Cardiomegaly, large pericardial-pleural effusion.'\n",
        "description=\"\"\n",
        "nifti_file = '../data/nifti/examples/3_2_3_sample_0.nii.gz'\n",
        "\n",
        "nifti_to_dicom(nifti_file=nifti_file, \n",
        "               series_description=\"Large Pericardial Effusion (generated)\", \n",
        "               modality = \"AI\",\n",
        "               study_instance_uid='3.2',\n",
        "               series_instance_uid='3.2.3',\n",
        "               study_id='3',\n",
        "               patient_name=\"Study Example 2\",\n",
        "               patient_id=\"train_1001_a_1_2\",\n",
        "               description=description,\n",
        "               )\n",
        "add_metadata_to_series('3.2.3', prompt, 'SeriesPrompt')"
      ]
    },
    {
      "cell_type": "code",
      "execution_count": null,
      "metadata": {},
      "outputs": [
        {
          "name": "stdout",
          "output_type": "stream",
          "text": [
            "Store DICOM files in Folder: ../data/nifti/examples/3_2_4_sample_0\n",
            "Conversion complete. DICOM files are saved in ../data/nifti/examples/3_2_4_sample_0\n",
            "Uploading DICOM folder to Orthanc...\n",
            "Files Uploaded to Orthanc Server Localhost\n",
            "661f8b59-2fb2500c-690ee75c-46b43fd8-ed852519\n"
          ]
        }
      ],
      "source": [
        "prompt= 'Cardiomegaly, no pericardial-pleural effusion.'\n",
        "description=\"\"\n",
        "nifti_file = '../data/nifti/examples/3_2_4_sample_0.nii.gz'\n",
        "\n",
        "nifti_to_dicom(nifti_file=nifti_file, \n",
        "               series_description=\"No Pericardial Effusion (generated)\", \n",
        "               modality = \"AI\",\n",
        "               study_instance_uid='3.2',\n",
        "               series_instance_uid='3.2.4',\n",
        "               study_id='4',\n",
        "               patient_name=\"Study Example 2\",\n",
        "               patient_id=\"train_1001_a_1_2\",\n",
        "               description=description,\n",
        "\n",
        "               )\n",
        "add_metadata_to_series('3.2.4', prompt, 'SeriesPrompt')"
      ]
    },
    {
      "cell_type": "code",
      "execution_count": null,
      "metadata": {},
      "outputs": [
        {
          "name": "stdout",
          "output_type": "stream",
          "text": [
            "Store DICOM files in Folder: ../data/nifti/examples/3_2_5_sample_0\n",
            "Conversion complete. DICOM files are saved in ../data/nifti/examples/3_2_5_sample_0\n",
            "Uploading DICOM folder to Orthanc...\n",
            "Files Uploaded to Orthanc Server Localhost\n",
            "3e0f2251-6827c2db-2df2e13a-7ac87361-d93e8f7f\n"
          ]
        }
      ],
      "source": [
        "prompt= 'Cardiomegaly, mild pericardial-pleural effusion.'\n",
        "description=\"\"\n",
        "nifti_file = '../data/nifti/examples/3_2_5_sample_0.nii.gz'\n",
        "\n",
        "nifti_to_dicom(nifti_file=nifti_file, \n",
        "               series_description=\"Mild Pericardial Effusion (generated)\", \n",
        "               modality = \"AI\",\n",
        "               study_instance_uid='3.2',\n",
        "               series_instance_uid='3.2.5',\n",
        "               study_id='5',\n",
        "               patient_name=\"Study Example 2\",\n",
        "               patient_id=\"train_1001_a_1_2\",\n",
        "               description=description,\n",
        "\n",
        "               )\n",
        "add_metadata_to_series('3.2.5', prompt, 'SeriesPrompt') #169\n"
      ]
    },
    {
      "cell_type": "code",
      "execution_count": null,
      "metadata": {},
      "outputs": [
        {
          "name": "stdout",
          "output_type": "stream",
          "text": [
            "Store DICOM files in Folder: ../data/nifti/examples/3_2_6_sample_0\n",
            "Conversion complete. DICOM files are saved in ../data/nifti/examples/3_2_6_sample_0\n",
            "Uploading DICOM folder to Orthanc...\n",
            "Files Uploaded to Orthanc Server Localhost\n",
            "d2b6da37-af8788d0-2441d385-ccf3e7fb-35911d8d\n"
          ]
        }
      ],
      "source": [
        "prompt= 'Cardiomegaly, moderate pericardial-pleural effusion.'\n",
        "description=\"\"\n",
        "nifti_file = '../data/nifti/examples/3_2_6_sample_0.nii.gz'\n",
        "\n",
        "nifti_to_dicom(nifti_file=nifti_file, \n",
        "               series_description=\"Moderate Pericardial Effusion (generated)\", \n",
        "               modality = \"AI\",\n",
        "               study_instance_uid='3.2',\n",
        "               series_instance_uid='3.2.6',\n",
        "               study_id='6',\n",
        "               patient_name=\"Study Example 2\",\n",
        "               patient_id=\"train_1001_a_1_2\",\n",
        "               description=description,\n",
        "\n",
        "               )\n",
        "add_metadata_to_series('3.2.6', prompt, 'SeriesPrompt')"
      ]
    },
    {
      "cell_type": "markdown",
      "metadata": {},
      "source": [
        "## Empty Example"
      ]
    },
    {
      "cell_type": "code",
      "execution_count": null,
      "metadata": {},
      "outputs": [
        {
          "name": "stdout",
          "output_type": "stream",
          "text": [
            "Store DICOM files in Folder: ../data/nifti/ct-rate/train/train_1001_a_1\n",
            "Conversion complete. DICOM files are saved in ../data/nifti/ct-rate/train/train_1001_a_1\n",
            "Uploading DICOM folder to Orthanc...\n",
            "Files Uploaded to Orthanc Server Localhost\n"
          ]
        }
      ],
      "source": [
        "findings = \"Minimal pericardial and bilateral pleural effusion are observed. Millimetric calcific plaques follow in the aorta.  No occlusive pathology was detected in the trachea and both main bronchi. There is an area of atelectasis accompanied by volume loss in the lingular segment of the left lung upper lobe. There are significant increases in interlobular septal thickness in the lower lobes of both lungs on the left. No mass was detected in both lungs. No pathological wall thickness increase was observed in the esophagus within the sections. No lytic-destructive lesions were detected in the bone structures within the sections.\"\n",
        "impressions=\"Cardiomegaly, minimal pericardial-pleural effusion. Consolidation areas in both lung lower lobes prominent on the left; is regressed. Atelectasis in the lingular segment of the left lung\"\n",
        "description= \"Arterial wall calcification, Cardiomegaly, Pericardial effusion, Atelectasis, Pleural effusion\"\n",
        "nifti_file = '../data/nifti/ct-rate/train/train_1001_a_1.nii.gz'\n",
        "\n",
        "nifti_to_dicom(nifti_file=nifti_file, \n",
        "               series_description=\"Original\", \n",
        "               modality = \"CT\",\n",
        "               study_instance_uid='3.3',\n",
        "               series_instance_uid='3.3.1',\n",
        "               study_id='1',\n",
        "               patient_name=\"Study Example 3\",\n",
        "               patient_id=\"train_1001_a_1_3\",\n",
        "               description= description,\n",
        "               )\n",
        "add_metadata_to_study('3.3', findings, 'Findings')\n",
        "add_metadata_to_study('3.3', impressions, 'Impressions')"
      ]
    },
    {
      "cell_type": "code",
      "execution_count": null,
      "metadata": {},
      "outputs": [],
      "source": []
    }
  ],
  "metadata": {
    "kernelspec": {
      "display_name": "Python 3.10.13 ('base')",
      "language": "python",
      "name": "python3"
    },
    "language_info": {
      "codemirror_mode": {
        "name": "ipython",
        "version": 3
      },
      "file_extension": ".py",
      "mimetype": "text/x-python",
      "name": "python",
      "nbconvert_exporter": "python",
      "pygments_lexer": "ipython3",
      "version": "3.10.15"
    },
    "vscode": {
      "interpreter": {
        "hash": "d4d1e4263499bec80672ea0156c357c1ee493ec2b1c70f0acce89fc37c4a6abe"
      }
    }
  },
  "nbformat": 4,
  "nbformat_minor": 0
}
