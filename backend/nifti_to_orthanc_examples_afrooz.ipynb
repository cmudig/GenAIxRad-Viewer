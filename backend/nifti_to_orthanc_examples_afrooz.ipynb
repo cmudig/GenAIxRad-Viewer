{
 "cells": [
  {
   "cell_type": "code",
   "execution_count": 1,
   "metadata": {},
   "outputs": [],
   "source": [
    "from dicom_helpers import nifti_to_dicom, add_metadata_to_series"
   ]
  },
  {
   "cell_type": "markdown",
   "metadata": {},
   "source": [
    "# Examples from Afrooz\n",
    "All these examples come from the train_data_analysis spreadsheet in the google drive. It contains the most common keywords used in the trainings data in MedSyn and Afrooz added some potential intressting popts. All these files are generated on PSC and the NIfTI files downloaded. Each file name starts with 5_X_Y and so does the series instance UID (5.X.Y)."
   ]
  },
  {
   "cell_type": "markdown",
   "metadata": {},
   "source": [
    "## 1. Nodules"
   ]
  },
  {
   "cell_type": "markdown",
   "metadata": {},
   "source": [
    "### Generated"
   ]
  },
  {
   "cell_type": "code",
   "execution_count": 2,
   "metadata": {},
   "outputs": [
    {
     "name": "stdout",
     "output_type": "stream",
     "text": [
      "Store DICOM files in Folder: ../data/nifti/examples/5_1_1_sample_0\n",
      "Conversion complete. DICOM files are saved in ../data/nifti/examples/5_1_1_sample_0\n",
      "Deleted Study: c134cb7b-f1d2f7ba-d287a157-b8b6b141-9d1115cd\n",
      "Uploading DICOM folder to Orthanc...\n",
      "Files Uploaded to Orthanc Server Localhost\n",
      "c134cb7b-f1d2f7ba-d287a157-b8b6b141-9d1115cd\n"
     ]
    }
   ],
   "source": [
    "prompt=\"There is no nodule in the right upper lobe\"\n",
    "description=\"Nodule\"\n",
    "nifti_file = '../data/nifti/examples/5_1_1_sample_0.nii.gz'\n",
    "nifti_to_dicom(nifti_file=nifti_file,\n",
    "               series_description=\"no, right upper\", \n",
    "               modality = \"AI\",\n",
    "               study_instance_uid='5.1',\n",
    "               series_instance_uid='5.1.1',\n",
    "               study_id='1', \n",
    "               patient_name=\"Nodules\",\n",
    "               patient_id=\"patient_nodule\",\n",
    "               description=description,\n",
    ")\n",
    "add_metadata_to_series('5.1.1', prompt, 'SeriesPrompt')"
   ]
  },
  {
   "cell_type": "code",
   "execution_count": 3,
   "metadata": {},
   "outputs": [
    {
     "name": "stdout",
     "output_type": "stream",
     "text": [
      "Store DICOM files in Folder: ../data/nifti/examples/5_1_2_sample_0\n",
      "Conversion complete. DICOM files are saved in ../data/nifti/examples/5_1_2_sample_0\n",
      "Deleted Study: e28698e4-adb0ca59-6e2b240f-69fc9c61-e1177bcb\n",
      "Uploading DICOM folder to Orthanc...\n",
      "Files Uploaded to Orthanc Server Localhost\n",
      "e28698e4-adb0ca59-6e2b240f-69fc9c61-e1177bcb\n"
     ]
    }
   ],
   "source": [
    "prompt=\"There is a 5 mm nodule in the right upper lobe\"\n",
    "description=\"Nodule\"\n",
    "nifti_file = '../data/nifti/examples/5_1_2_sample_0.nii.gz'\n",
    "nifti_to_dicom(nifti_file=nifti_file,\n",
    "               series_description=\"5mm, right upper\", \n",
    "               modality = \"AI\",\n",
    "               study_instance_uid='5.1',\n",
    "               series_instance_uid='5.1.2',\n",
    "               study_id='2', \n",
    "               patient_name=\"Nodules\",\n",
    "               patient_id=\"patient_nodule\",\n",
    "               description=description,\n",
    ")\n",
    "add_metadata_to_series('5.1.2', prompt, 'SeriesPrompt')"
   ]
  },
  {
   "cell_type": "code",
   "execution_count": 4,
   "metadata": {},
   "outputs": [
    {
     "name": "stdout",
     "output_type": "stream",
     "text": [
      "Store DICOM files in Folder: ../data/nifti/examples/5_1_3_sample_0\n",
      "Conversion complete. DICOM files are saved in ../data/nifti/examples/5_1_3_sample_0\n",
      "Deleted Study: 94f260c6-b78a837e-1b93d20a-81ad1e10-9dd7e6f5\n",
      "Uploading DICOM folder to Orthanc...\n",
      "Files Uploaded to Orthanc Server Localhost\n",
      "94f260c6-b78a837e-1b93d20a-81ad1e10-9dd7e6f5\n"
     ]
    }
   ],
   "source": [
    "prompt=\"There is a 5 mm nodule in the right lower lobe\"\n",
    "description=\"Nodule\"\n",
    "nifti_file = '../data/nifti/examples/5_1_3_sample_0.nii.gz'\n",
    "nifti_to_dicom(nifti_file=nifti_file,\n",
    "               series_description=\"5mm, right lower\", \n",
    "               modality = \"AI\",\n",
    "               study_instance_uid='5.1',\n",
    "               series_instance_uid='5.1.3',\n",
    "               study_id='3', \n",
    "               patient_name=\"Nodules\",\n",
    "               patient_id=\"patient_nodule\",\n",
    "               description=description,\n",
    ")\n",
    "add_metadata_to_series('5.1.3', prompt, 'SeriesPrompt')"
   ]
  },
  {
   "cell_type": "code",
   "execution_count": 5,
   "metadata": {},
   "outputs": [
    {
     "name": "stdout",
     "output_type": "stream",
     "text": [
      "Store DICOM files in Folder: ../data/nifti/examples/5_1_4_sample_0\n",
      "Conversion complete. DICOM files are saved in ../data/nifti/examples/5_1_4_sample_0\n",
      "Deleted Study: b965d1d6-1fc6850d-683946b1-8b9b11a7-91e673a8\n",
      "Uploading DICOM folder to Orthanc...\n",
      "Files Uploaded to Orthanc Server Localhost\n",
      "b965d1d6-1fc6850d-683946b1-8b9b11a7-91e673a8\n"
     ]
    }
   ],
   "source": [
    "prompt=\"There is a 5 mm nodule in the left upper lobe\"\n",
    "description=\"Nodule\"\n",
    "nifti_file = '../data/nifti/examples/5_1_4_sample_0.nii.gz'\n",
    "nifti_to_dicom(nifti_file=nifti_file,\n",
    "               series_description=\"5mm, left upper\", \n",
    "               modality = \"AI\",\n",
    "               study_instance_uid='5.1',\n",
    "               series_instance_uid='5.1.4',\n",
    "               study_id='4', \n",
    "               patient_name=\"Nodules\",\n",
    "               patient_id=\"patient_nodule\",\n",
    "               description=description,\n",
    ")\n",
    "add_metadata_to_series('5.1.4', prompt, 'SeriesPrompt')"
   ]
  },
  {
   "cell_type": "code",
   "execution_count": 6,
   "metadata": {},
   "outputs": [
    {
     "name": "stdout",
     "output_type": "stream",
     "text": [
      "Store DICOM files in Folder: ../data/nifti/examples/5_1_5_sample_0\n",
      "Conversion complete. DICOM files are saved in ../data/nifti/examples/5_1_5_sample_0\n",
      "Deleted Study: 8916b0b0-50f78d38-1adcb2fd-25750f8f-b148b971\n",
      "Uploading DICOM folder to Orthanc...\n",
      "Files Uploaded to Orthanc Server Localhost\n",
      "8916b0b0-50f78d38-1adcb2fd-25750f8f-b148b971\n"
     ]
    }
   ],
   "source": [
    "prompt=\"There is a 15 mm nodule in the right upper lobe\"\n",
    "description=\"Nodule\"\n",
    "nifti_file = '../data/nifti/examples/5_1_5_sample_0.nii.gz'\n",
    "nifti_to_dicom(nifti_file=nifti_file,\n",
    "               series_description=\"15mm, right upper\", \n",
    "               modality = \"AI\",\n",
    "               study_instance_uid='5.1',\n",
    "               series_instance_uid='5.1.5',\n",
    "               study_id='5', \n",
    "               patient_name=\"Nodules\",\n",
    "               patient_id=\"patient_nodule\",\n",
    "               description=description,\n",
    ")\n",
    "add_metadata_to_series('5.1.5', prompt, 'SeriesPrompt')"
   ]
  },
  {
   "cell_type": "code",
   "execution_count": 7,
   "metadata": {},
   "outputs": [
    {
     "name": "stdout",
     "output_type": "stream",
     "text": [
      "Store DICOM files in Folder: ../data/nifti/examples/5_1_6_sample_0\n",
      "Conversion complete. DICOM files are saved in ../data/nifti/examples/5_1_6_sample_0\n",
      "Deleted Study: d3c49eab-e63e899a-2517eb4b-956294be-e89d55e1\n",
      "Uploading DICOM folder to Orthanc...\n",
      "Files Uploaded to Orthanc Server Localhost\n",
      "d3c49eab-e63e899a-2517eb4b-956294be-e89d55e1\n"
     ]
    }
   ],
   "source": [
    "prompt=\"There is a 25 mm nodule in the right upper lobe\"\n",
    "description=\"Nodule\"\n",
    "nifti_file = '../data/nifti/examples/5_1_6_sample_0.nii.gz'\n",
    "nifti_to_dicom(nifti_file=nifti_file,\n",
    "               series_description=\"25mm, right upper\", \n",
    "               modality = \"AI\",\n",
    "               study_instance_uid='5.1',\n",
    "               series_instance_uid='5.1.6',\n",
    "               study_id='6', \n",
    "               patient_name=\"Nodules\",\n",
    "               patient_id=\"patient_nodule\",\n",
    "               description=description,\n",
    ")\n",
    "add_metadata_to_series('5.1.6', prompt, 'SeriesPrompt')"
   ]
  },
  {
   "cell_type": "code",
   "execution_count": 8,
   "metadata": {},
   "outputs": [
    {
     "name": "stdout",
     "output_type": "stream",
     "text": [
      "Store DICOM files in Folder: ../data/nifti/examples/5_1_7_sample_0\n",
      "Conversion complete. DICOM files are saved in ../data/nifti/examples/5_1_7_sample_0\n",
      "Deleted Study: 3ea645f8-01fb3db8-be06219e-91b2ff3a-2ef8884d\n",
      "Uploading DICOM folder to Orthanc...\n",
      "Files Uploaded to Orthanc Server Localhost\n",
      "3ea645f8-01fb3db8-be06219e-91b2ff3a-2ef8884d\n"
     ]
    }
   ],
   "source": [
    "prompt=\"There is a large nodule in the right upper lobe\"\n",
    "description=\"Nodule\"\n",
    "nifti_file = '../data/nifti/examples/5_1_7_sample_0.nii.gz'\n",
    "nifti_to_dicom(nifti_file=nifti_file,\n",
    "               series_description=\"large, right upper\", \n",
    "               modality = \"AI\",\n",
    "               study_instance_uid='5.1',\n",
    "               series_instance_uid='5.1.7',\n",
    "               study_id='7', \n",
    "               patient_name=\"Nodules\",\n",
    "               patient_id=\"patient_nodule\",\n",
    "               description=description,\n",
    ")\n",
    "add_metadata_to_series('5.1.7', prompt, 'SeriesPrompt')"
   ]
  },
  {
   "cell_type": "code",
   "execution_count": 9,
   "metadata": {},
   "outputs": [
    {
     "name": "stdout",
     "output_type": "stream",
     "text": [
      "Store DICOM files in Folder: ../data/nifti/examples/5_1_8_sample_0\n"
     ]
    },
    {
     "name": "stdout",
     "output_type": "stream",
     "text": [
      "Conversion complete. DICOM files are saved in ../data/nifti/examples/5_1_8_sample_0\n",
      "Deleted Study: a6e4d444-6ed8dce5-0a267288-f8e058d1-ab14b5f5\n",
      "Uploading DICOM folder to Orthanc...\n",
      "Files Uploaded to Orthanc Server Localhost\n",
      "a6e4d444-6ed8dce5-0a267288-f8e058d1-ab14b5f5\n"
     ]
    }
   ],
   "source": [
    "prompt=\"There is a small nodule in the right upper lobe\"\n",
    "description=\"Nodule\"\n",
    "nifti_file = '../data/nifti/examples/5_1_8_sample_0.nii.gz'\n",
    "nifti_to_dicom(nifti_file=nifti_file,\n",
    "               series_description=\"small, right upper\", \n",
    "               modality = \"AI\",\n",
    "               study_instance_uid='5.1',\n",
    "               series_instance_uid='5.1.8',\n",
    "               study_id='8', \n",
    "               patient_name=\"Nodules\",\n",
    "               patient_id=\"patient_nodule\",\n",
    "               description=description,\n",
    ")\n",
    "add_metadata_to_series('5.1.8', prompt, 'SeriesPrompt')"
   ]
  },
  {
   "cell_type": "code",
   "execution_count": 10,
   "metadata": {},
   "outputs": [
    {
     "name": "stdout",
     "output_type": "stream",
     "text": [
      "Store DICOM files in Folder: ../data/nifti/examples/5_1_9_sample_0\n"
     ]
    },
    {
     "name": "stdout",
     "output_type": "stream",
     "text": [
      "Conversion complete. DICOM files are saved in ../data/nifti/examples/5_1_9_sample_0\n",
      "Deleted Study: be47a6d5-698dd15c-1488fa10-51058142-5ddca6f0\n",
      "Uploading DICOM folder to Orthanc...\n",
      "Files Uploaded to Orthanc Server Localhost\n",
      "be47a6d5-698dd15c-1488fa10-51058142-5ddca6f0\n"
     ]
    }
   ],
   "source": [
    "prompt=\"There is one nodule in the right upper lobe\"\n",
    "description=\"Nodule\"\n",
    "nifti_file = '../data/nifti/examples/5_1_9_sample_0.nii.gz'\n",
    "nifti_to_dicom(nifti_file=nifti_file,\n",
    "               series_description=\"one, right upper\", \n",
    "               modality = \"AI\",\n",
    "               study_instance_uid='5.1',\n",
    "               series_instance_uid='5.1.9',\n",
    "               study_id='9', \n",
    "               patient_name=\"Nodules\",\n",
    "               patient_id=\"patient_nodule\",\n",
    "               description=description,\n",
    ")\n",
    "add_metadata_to_series('5.1.9', prompt, 'SeriesPrompt')"
   ]
  },
  {
   "cell_type": "code",
   "execution_count": 11,
   "metadata": {},
   "outputs": [
    {
     "name": "stdout",
     "output_type": "stream",
     "text": [
      "Store DICOM files in Folder: ../data/nifti/examples/5_1_10_sample_0\n"
     ]
    },
    {
     "name": "stdout",
     "output_type": "stream",
     "text": [
      "Conversion complete. DICOM files are saved in ../data/nifti/examples/5_1_10_sample_0\n",
      "Deleted Study: 0f9570ea-8589e29a-4cfebad8-e582d514-7ba3cdb1\n",
      "Uploading DICOM folder to Orthanc...\n",
      "Files Uploaded to Orthanc Server Localhost\n",
      "0f9570ea-8589e29a-4cfebad8-e582d514-7ba3cdb1\n"
     ]
    }
   ],
   "source": [
    "prompt=\"There are multiple nodules in the right upper lobe\"\n",
    "description=\"Nodule\"\n",
    "nifti_file = '../data/nifti/examples/5_1_10_sample_0.nii.gz'\n",
    "nifti_to_dicom(nifti_file=nifti_file,\n",
    "               series_description=\"multiple, right upper\", \n",
    "               modality = \"AI\",\n",
    "               study_instance_uid='5.1',\n",
    "               series_instance_uid='5.1.10',\n",
    "               study_id='10', \n",
    "               patient_name=\"Nodules\",\n",
    "               patient_id=\"patient_nodule\",\n",
    "               description=description,\n",
    ")\n",
    "add_metadata_to_series('5.1.10', prompt, 'SeriesPrompt')"
   ]
  },
  {
   "cell_type": "markdown",
   "metadata": {},
   "source": [
    "## 2. Atelectasis"
   ]
  },
  {
   "cell_type": "markdown",
   "metadata": {},
   "source": [
    "### Generated"
   ]
  },
  {
   "cell_type": "code",
   "execution_count": 12,
   "metadata": {},
   "outputs": [
    {
     "name": "stdout",
     "output_type": "stream",
     "text": [
      "Store DICOM files in Folder: ../data/nifti/examples/5_2_1_sample_0\n",
      "Conversion complete. DICOM files are saved in ../data/nifti/examples/5_2_1_sample_0\n",
      "Uploading DICOM folder to Orthanc...\n",
      "Files Uploaded to Orthanc Server Localhost\n",
      "fd4ae5ad-cfb380f2-995104c3-b9220a37-43fba806\n"
     ]
    }
   ],
   "source": [
    "prompt=\"No Atelectatic changes are noted in the bilateral pericardiac region\"\n",
    "description=\"Atelectasis\"\n",
    "nifti_file = '../data/nifti/examples/5_2_1_sample_0.nii.gz'\n",
    "nifti_to_dicom(nifti_file=nifti_file,\n",
    "               series_description=\"no\", \n",
    "               modality = \"AI\",\n",
    "               study_instance_uid='5.2',\n",
    "               series_instance_uid='5.2.1',\n",
    "               study_id='1', \n",
    "               patient_name=\"Atelectasis\",\n",
    "               patient_id=\"patient_atelectasis\",\n",
    "               description=description,\n",
    ")\n",
    "add_metadata_to_series('5.2.1', prompt, 'SeriesPrompt')"
   ]
  },
  {
   "cell_type": "code",
   "execution_count": 13,
   "metadata": {},
   "outputs": [
    {
     "name": "stdout",
     "output_type": "stream",
     "text": [
      "Store DICOM files in Folder: ../data/nifti/examples/5_2_2_sample_0\n",
      "Conversion complete. DICOM files are saved in ../data/nifti/examples/5_2_2_sample_0\n",
      "Uploading DICOM folder to Orthanc...\n",
      "Files Uploaded to Orthanc Server Localhost\n",
      "0d6c888b-85d173b1-79ae8909-705b4f01-80a38a6b\n"
     ]
    }
   ],
   "source": [
    "prompt=\"Atelectatic changes are noted in the bilateral pericardiac region\"\n",
    "description=\"Atelectasis\"\n",
    "nifti_file = '../data/nifti/examples/5_2_2_sample_0.nii.gz'\n",
    "nifti_to_dicom(nifti_file=nifti_file,\n",
    "               series_description=\"pericardiac region\", \n",
    "               modality = \"AI\",\n",
    "               study_instance_uid='5.2',\n",
    "               series_instance_uid='5.2.2',\n",
    "               study_id='2', \n",
    "               patient_name=\"Atelectasis\",\n",
    "               patient_id=\"patient_atelectasis\",\n",
    "               description=description,\n",
    ")\n",
    "add_metadata_to_series('5.2.2', prompt, 'SeriesPrompt')"
   ]
  },
  {
   "cell_type": "code",
   "execution_count": 14,
   "metadata": {},
   "outputs": [
    {
     "name": "stdout",
     "output_type": "stream",
     "text": [
      "Store DICOM files in Folder: ../data/nifti/examples/5_2_3_sample_0\n",
      "Conversion complete. DICOM files are saved in ../data/nifti/examples/5_2_3_sample_0\n",
      "Uploading DICOM folder to Orthanc...\n",
      "Files Uploaded to Orthanc Server Localhost\n",
      "85084b0a-ace3822d-de11a9b0-5f4992b3-623b744e\n"
     ]
    }
   ],
   "source": [
    "prompt=\"Collapse of the pulmonary segments III and V of the right lung\" # from radiopedia\n",
    "description=\"Atelectasis\"\n",
    "nifti_file = '../data/nifti/examples/5_2_3_sample_0.nii.gz'\n",
    "nifti_to_dicom(nifti_file=nifti_file,\n",
    "               series_description=\"right\", \n",
    "               modality = \"AI\",\n",
    "               study_instance_uid='5.2',\n",
    "               series_instance_uid='5.2.3',\n",
    "               study_id='3', \n",
    "               patient_name=\"Atelectasis\",\n",
    "               patient_id=\"patient_atelectasis\",\n",
    "               description=description,\n",
    ")\n",
    "add_metadata_to_series('5.2.3', prompt, 'SeriesPrompt')"
   ]
  },
  {
   "cell_type": "code",
   "execution_count": 15,
   "metadata": {},
   "outputs": [
    {
     "name": "stdout",
     "output_type": "stream",
     "text": [
      "Store DICOM files in Folder: ../data/nifti/examples/5_2_4_sample_0\n",
      "Conversion complete. DICOM files are saved in ../data/nifti/examples/5_2_4_sample_0\n",
      "Uploading DICOM folder to Orthanc...\n",
      "Files Uploaded to Orthanc Server Localhost\n",
      "4cfd6765-ae4df904-16c9bd5f-e5f6b1c2-ba46471f\n"
     ]
    }
   ],
   "source": [
    "prompt=\"Collapse of the pulmonary segments III and V of the left lung\" # from radiopedia\n",
    "description=\"Atelectasis\"\n",
    "nifti_file = '../data/nifti/examples/5_2_4_sample_0.nii.gz'\n",
    "nifti_to_dicom(nifti_file=nifti_file,\n",
    "               series_description=\"left\", \n",
    "               modality = \"AI\",\n",
    "               study_instance_uid='5.2',\n",
    "               series_instance_uid='5.2.4',\n",
    "               study_id='4', \n",
    "               patient_name=\"Atelectasis\",\n",
    "               patient_id=\"patient_atelectasis\",\n",
    "               description=description,\n",
    ")\n",
    "add_metadata_to_series('5.2.4', prompt, 'SeriesPrompt')"
   ]
  },
  {
   "cell_type": "markdown",
   "metadata": {},
   "source": [
    "## 3. Pleaural Effusion"
   ]
  },
  {
   "cell_type": "markdown",
   "metadata": {},
   "source": [
    "### Generated"
   ]
  },
  {
   "cell_type": "code",
   "execution_count": 16,
   "metadata": {},
   "outputs": [
    {
     "name": "stdout",
     "output_type": "stream",
     "text": [
      "Store DICOM files in Folder: ../data/nifti/examples/5_3_1_sample_0\n",
      "Conversion complete. DICOM files are saved in ../data/nifti/examples/5_3_1_sample_0\n",
      "Uploading DICOM folder to Orthanc...\n",
      "Files Uploaded to Orthanc Server Localhost\n",
      "44711e00-ce589d85-9be27168-0d341918-b06231e0\n"
     ]
    }
   ],
   "source": [
    "prompt=\"No pleural effusion is seen\" \n",
    "description=\"Pleural Effusion\"\n",
    "nifti_file = '../data/nifti/examples/5_3_1_sample_0.nii.gz'\n",
    "nifti_to_dicom(nifti_file=nifti_file,\n",
    "               series_description=\"no\", \n",
    "               modality = \"AI\",\n",
    "               study_instance_uid='5.3',\n",
    "               series_instance_uid='5.3.1',\n",
    "               study_id='1', \n",
    "               patient_name=\"Pleural Effusion\",\n",
    "               patient_id=\"patient_effusion\",\n",
    "               description=description,\n",
    ")\n",
    "add_metadata_to_series('5.3.1', prompt, 'SeriesPrompt')"
   ]
  },
  {
   "cell_type": "code",
   "execution_count": 17,
   "metadata": {},
   "outputs": [
    {
     "name": "stdout",
     "output_type": "stream",
     "text": [
      "Store DICOM files in Folder: ../data/nifti/examples/5_3_2_sample_0\n",
      "Conversion complete. DICOM files are saved in ../data/nifti/examples/5_3_2_sample_0\n",
      "Uploading DICOM folder to Orthanc...\n",
      "Files Uploaded to Orthanc Server Localhost\n",
      "5c8f8507-5c9c6884-d7d5b747-9db8fae1-5d7f9449\n"
     ]
    }
   ],
   "source": [
    "prompt=\"Mild left sided pleural effusion is seen\" \n",
    "description=\"Pleural Effusion\"\n",
    "nifti_file = '../data/nifti/examples/5_3_2_sample_0.nii.gz'\n",
    "nifti_to_dicom(nifti_file=nifti_file,\n",
    "               series_description=\"mild, left\", \n",
    "               modality = \"AI\",\n",
    "               study_instance_uid='5.3',\n",
    "               series_instance_uid='5.3.2',\n",
    "               study_id='2', \n",
    "               patient_name=\"Pleural Effusion\",\n",
    "               patient_id=\"patient_effusion\",\n",
    "               description=description,\n",
    ")\n",
    "add_metadata_to_series('5.3.2', prompt, 'SeriesPrompt')"
   ]
  },
  {
   "cell_type": "code",
   "execution_count": 18,
   "metadata": {},
   "outputs": [
    {
     "name": "stdout",
     "output_type": "stream",
     "text": [
      "Store DICOM files in Folder: ../data/nifti/examples/5_3_3_sample_0\n",
      "Conversion complete. DICOM files are saved in ../data/nifti/examples/5_3_3_sample_0\n",
      "Uploading DICOM folder to Orthanc...\n",
      "Files Uploaded to Orthanc Server Localhost\n",
      "213efaeb-429468bb-f37337a6-6f164528-6c5fdbea\n"
     ]
    }
   ],
   "source": [
    "prompt=\"Mild right sided pleural effusion is seen\" \n",
    "description=\"Pleural Effusion\"\n",
    "nifti_file = '../data/nifti/examples/5_3_3_sample_0.nii.gz'\n",
    "nifti_to_dicom(nifti_file=nifti_file,\n",
    "               series_description=\"mild, right\", \n",
    "               modality = \"AI\",\n",
    "               study_instance_uid='5.3',\n",
    "               series_instance_uid='5.3.3',\n",
    "               study_id='3', \n",
    "               patient_name=\"Pleural Effusion\",\n",
    "               patient_id=\"patient_effusion\",\n",
    "               description=description,\n",
    ")\n",
    "add_metadata_to_series('5.3.3', prompt, 'SeriesPrompt')"
   ]
  },
  {
   "cell_type": "code",
   "execution_count": 19,
   "metadata": {},
   "outputs": [
    {
     "name": "stdout",
     "output_type": "stream",
     "text": [
      "Store DICOM files in Folder: ../data/nifti/examples/5_3_4_sample_0\n",
      "Conversion complete. DICOM files are saved in ../data/nifti/examples/5_3_4_sample_0\n",
      "Uploading DICOM folder to Orthanc...\n",
      "Files Uploaded to Orthanc Server Localhost\n",
      "25508c81-8c09f3d5-eb2d0855-5cb2d286-b934e6e1\n"
     ]
    }
   ],
   "source": [
    "prompt=\"Significant left sided pleural effusion is seen\" \n",
    "description=\"Pleural Effusion\"\n",
    "nifti_file = '../data/nifti/examples/5_3_4_sample_0.nii.gz'\n",
    "nifti_to_dicom(nifti_file=nifti_file,\n",
    "               series_description=\"significant, left\", \n",
    "               modality = \"AI\",\n",
    "               study_instance_uid='5.3',\n",
    "               series_instance_uid='5.3.4',\n",
    "               study_id='4', \n",
    "               patient_name=\"Pleural Effusion\",\n",
    "               patient_id=\"patient_effusion\",\n",
    "               description=description,\n",
    ")\n",
    "add_metadata_to_series('5.3.4', prompt, 'SeriesPrompt')"
   ]
  },
  {
   "cell_type": "markdown",
   "metadata": {},
   "source": [
    "## 4. Calcification"
   ]
  },
  {
   "cell_type": "markdown",
   "metadata": {},
   "source": [
    "### Generated"
   ]
  },
  {
   "cell_type": "code",
   "execution_count": 20,
   "metadata": {},
   "outputs": [
    {
     "name": "stdout",
     "output_type": "stream",
     "text": [
      "Store DICOM files in Folder: ../data/nifti/examples/5_4_1_sample_0\n",
      "Conversion complete. DICOM files are saved in ../data/nifti/examples/5_4_1_sample_0\n",
      "Uploading DICOM folder to Orthanc...\n",
      "Files Uploaded to Orthanc Server Localhost\n",
      "959ba639-5ff889b6-dd6809cd-7513a2f8-264043ed\n"
     ]
    }
   ],
   "source": [
    "prompt=\"No calcifications are seen\" \n",
    "description=\"Calcification\"\n",
    "nifti_file = '../data/nifti/examples/5_4_1_sample_0.nii.gz'\n",
    "nifti_to_dicom(nifti_file=nifti_file,\n",
    "               series_description=\"no\", \n",
    "               modality = \"AI\",\n",
    "               study_instance_uid='5.4',\n",
    "               series_instance_uid='5.4.1',\n",
    "               study_id='1', \n",
    "               patient_name=\"Calcification\",\n",
    "               patient_id=\"patient_calcification\",\n",
    "               description=description,\n",
    ")\n",
    "add_metadata_to_series('5.4.1', prompt, 'SeriesPrompt')"
   ]
  },
  {
   "cell_type": "code",
   "execution_count": 21,
   "metadata": {},
   "outputs": [
    {
     "name": "stdout",
     "output_type": "stream",
     "text": [
      "Store DICOM files in Folder: ../data/nifti/examples/5_4_2_sample_0\n",
      "Conversion complete. DICOM files are saved in ../data/nifti/examples/5_4_2_sample_0\n",
      "Uploading DICOM folder to Orthanc...\n",
      "Files Uploaded to Orthanc Server Localhost\n",
      "e76babfb-45a20704-e3ff0946-d1321da3-177c1f05\n"
     ]
    }
   ],
   "source": [
    "prompt=\"Punctate calcifications are seen in the periphery of the mass\" \n",
    "description=\"Calcification\"\n",
    "nifti_file = '../data/nifti/examples/5_4_2_sample_0.nii.gz'\n",
    "nifti_to_dicom(nifti_file=nifti_file,\n",
    "               series_description=\"periphery\", \n",
    "               modality = \"AI\",\n",
    "               study_instance_uid='5.4',\n",
    "               series_instance_uid='5.4.2',\n",
    "               study_id='2', \n",
    "               patient_name=\"Calcification\",\n",
    "               patient_id=\"patient_calcification\",\n",
    "               description=description,\n",
    ")\n",
    "add_metadata_to_series('5.4.2', prompt, 'SeriesPrompt')"
   ]
  },
  {
   "cell_type": "markdown",
   "metadata": {},
   "source": [
    "## 5. Lymphadenopathy"
   ]
  },
  {
   "cell_type": "markdown",
   "metadata": {},
   "source": [
    "### Generated"
   ]
  },
  {
   "cell_type": "code",
   "execution_count": 22,
   "metadata": {},
   "outputs": [
    {
     "name": "stdout",
     "output_type": "stream",
     "text": [
      "Store DICOM files in Folder: ../data/nifti/examples/5_5_1_sample_0\n",
      "Conversion complete. DICOM files are saved in ../data/nifti/examples/5_5_1_sample_0\n",
      "Uploading DICOM folder to Orthanc...\n",
      "Files Uploaded to Orthanc Server Localhost\n",
      "928db3d3-1c2767e5-ac48e8c8-a1964fe4-0b7de8b6\n"
     ]
    }
   ],
   "source": [
    "prompt=\"No enlarged lymph nodes are noted\" \n",
    "description=\"Lymphadenopathy\"\n",
    "nifti_file = '../data/nifti/examples/5_5_1_sample_0.nii.gz'\n",
    "nifti_to_dicom(nifti_file=nifti_file,\n",
    "               series_description=\"no\", \n",
    "               modality = \"AI\",\n",
    "               study_instance_uid='5.5',\n",
    "               series_instance_uid='5.5.1',\n",
    "               study_id='1', \n",
    "               patient_name=\"Lymphadenopathy\",\n",
    "               patient_id=\"patient_lymphadenopathy\",\n",
    "               description=description,\n",
    ")\n",
    "add_metadata_to_series('5.5.1', prompt, 'SeriesPrompt')"
   ]
  },
  {
   "cell_type": "code",
   "execution_count": 23,
   "metadata": {},
   "outputs": [
    {
     "name": "stdout",
     "output_type": "stream",
     "text": [
      "Store DICOM files in Folder: ../data/nifti/examples/5_5_2_sample_0\n",
      "Conversion complete. DICOM files are saved in ../data/nifti/examples/5_5_2_sample_0\n",
      "Uploading DICOM folder to Orthanc...\n",
      "Files Uploaded to Orthanc Server Localhost\n",
      "80c41a1f-5c2db4cc-12e01c20-e31c75f7-69df49b7\n"
     ]
    }
   ],
   "source": [
    "prompt=\"Mediastinal and bilateral hilar enlarged lymph nodes, with a maximum diameter of 13 mm in the subcarinal region, are noted\" \n",
    "description=\"Lymphadenopathy\"\n",
    "nifti_file = '../data/nifti/examples/5_5_2_sample_0.nii.gz'\n",
    "nifti_to_dicom(nifti_file=nifti_file,\n",
    "               series_description=\"mediastinal and bilateral\", \n",
    "               modality = \"AI\",\n",
    "               study_instance_uid='5.5',\n",
    "               series_instance_uid='5.5.2',\n",
    "               study_id='2', \n",
    "               patient_name=\"Lymphadenopathy\",\n",
    "               patient_id=\"patient_lymphadenopathy\",\n",
    "               description=description,\n",
    ")\n",
    "add_metadata_to_series('5.5.2', prompt, 'SeriesPrompt')"
   ]
  },
  {
   "cell_type": "code",
   "execution_count": 24,
   "metadata": {},
   "outputs": [
    {
     "name": "stdout",
     "output_type": "stream",
     "text": [
      "Store DICOM files in Folder: ../data/nifti/examples/5_5_3_sample_0\n",
      "Conversion complete. DICOM files are saved in ../data/nifti/examples/5_5_3_sample_0\n",
      "Uploading DICOM folder to Orthanc...\n",
      "Files Uploaded to Orthanc Server Localhost\n",
      "8535b627-c3987ea3-58474b4c-ed431dcd-dc686dd3\n"
     ]
    }
   ],
   "source": [
    "prompt=\"Mediastinal enlarged lymph nodes, with a maximum diameter of 13 mm in the subcarinal region, are noted\" \n",
    "description=\"Lymphadenopathy\"\n",
    "nifti_file = '../data/nifti/examples/5_5_3_sample_0.nii.gz'\n",
    "nifti_to_dicom(nifti_file=nifti_file,\n",
    "               series_description=\"mediastinal\", \n",
    "               modality = \"AI\",\n",
    "               study_instance_uid='5.5',\n",
    "               series_instance_uid='5.5.3',\n",
    "               study_id='3', \n",
    "               patient_name=\"Lymphadenopathy\",\n",
    "               patient_id=\"patient_lymphadenopathy\",\n",
    "               description=description,\n",
    ")\n",
    "add_metadata_to_series('5.5.3', prompt, 'SeriesPrompt')"
   ]
  },
  {
   "cell_type": "markdown",
   "metadata": {},
   "source": [
    "## 6. Emphysema"
   ]
  },
  {
   "cell_type": "markdown",
   "metadata": {},
   "source": [
    "### Generated"
   ]
  },
  {
   "cell_type": "code",
   "execution_count": 25,
   "metadata": {},
   "outputs": [
    {
     "name": "stdout",
     "output_type": "stream",
     "text": [
      "Store DICOM files in Folder: ../data/nifti/examples/5_6_1_sample_0\n",
      "Conversion complete. DICOM files are saved in ../data/nifti/examples/5_6_1_sample_0\n",
      "Uploading DICOM folder to Orthanc...\n",
      "Files Uploaded to Orthanc Server Localhost\n",
      "0898e3fe-8fe25205-3e5c6ec0-8f8d2a26-35811eae\n"
     ]
    }
   ],
   "source": [
    "prompt=\"Diffuse centrilobular emphysema, is not seen\" \n",
    "description=\"Emhysema\"\n",
    "nifti_file = '../data/nifti/examples/5_6_1_sample_0.nii.gz'\n",
    "nifti_to_dicom(nifti_file=nifti_file,\n",
    "               series_description=\"no\", \n",
    "               modality = \"AI\",\n",
    "               study_instance_uid='5.6',\n",
    "               series_instance_uid='5.6.1',\n",
    "               study_id='1', \n",
    "               patient_name=\"Emhysema\",\n",
    "               patient_id=\"patient_emhysema\",\n",
    "               description=description,\n",
    ")\n",
    "add_metadata_to_series('5.6.1', prompt, 'SeriesPrompt')"
   ]
  },
  {
   "cell_type": "code",
   "execution_count": 26,
   "metadata": {},
   "outputs": [
    {
     "name": "stdout",
     "output_type": "stream",
     "text": [
      "Store DICOM files in Folder: ../data/nifti/examples/5_6_2_sample_0\n",
      "Conversion complete. DICOM files are saved in ../data/nifti/examples/5_6_2_sample_0\n",
      "Uploading DICOM folder to Orthanc...\n",
      "Files Uploaded to Orthanc Server Localhost\n",
      "5a714f12-dd82fed5-5e9760f1-df0b452d-11862ca3\n"
     ]
    }
   ],
   "source": [
    "prompt=\"Diffuse centrilobular emphysema, more prominent at the lung apices, is seen\" \n",
    "description=\"Emhysema\"\n",
    "nifti_file = '../data/nifti/examples/5_6_2_sample_0.nii.gz'\n",
    "nifti_to_dicom(nifti_file=nifti_file,\n",
    "               series_description=\"centrilobular\", \n",
    "               modality = \"AI\",\n",
    "               study_instance_uid='5.6',\n",
    "               series_instance_uid='5.6.2',\n",
    "               study_id='2', \n",
    "               patient_name=\"Emhysema\",\n",
    "               patient_id=\"patient_emhysema\",\n",
    "               description=description,\n",
    ")\n",
    "add_metadata_to_series('5.6.2', prompt, 'SeriesPrompt')"
   ]
  },
  {
   "cell_type": "markdown",
   "metadata": {},
   "source": [
    "## 7. Consolidation"
   ]
  },
  {
   "cell_type": "markdown",
   "metadata": {},
   "source": [
    "### Generated"
   ]
  },
  {
   "cell_type": "code",
   "execution_count": 27,
   "metadata": {},
   "outputs": [
    {
     "name": "stdout",
     "output_type": "stream",
     "text": [
      "Store DICOM files in Folder: ../data/nifti/examples/5_7_1_sample_0\n",
      "Conversion complete. DICOM files are saved in ../data/nifti/examples/5_7_1_sample_0\n",
      "Uploading DICOM folder to Orthanc...\n",
      "Files Uploaded to Orthanc Server Localhost\n",
      "ede6372e-bf99a573-420f1072-f695f100-90da3ff8\n"
     ]
    }
   ],
   "source": [
    "prompt=\"No Consolidation\" \n",
    "description=\"Consolidation\"\n",
    "nifti_file = '../data/nifti/examples/5_7_1_sample_0.nii.gz'\n",
    "nifti_to_dicom(nifti_file=nifti_file,\n",
    "               series_description=\"no\", \n",
    "               modality = \"AI\",\n",
    "               study_instance_uid='5.7',\n",
    "               series_instance_uid='5.7.1',\n",
    "               study_id='1', \n",
    "               patient_name=\"Consolidation\",\n",
    "               patient_id=\"patient_consolidation\",\n",
    "               description=description,\n",
    ")\n",
    "add_metadata_to_series('5.7.1', prompt, 'SeriesPrompt')"
   ]
  },
  {
   "cell_type": "code",
   "execution_count": 28,
   "metadata": {},
   "outputs": [
    {
     "name": "stdout",
     "output_type": "stream",
     "text": [
      "Store DICOM files in Folder: ../data/nifti/examples/5_7_2_sample_0\n",
      "Conversion complete. DICOM files are saved in ../data/nifti/examples/5_7_2_sample_0\n",
      "Uploading DICOM folder to Orthanc...\n",
      "Files Uploaded to Orthanc Server Localhost\n",
      "1820161d-1a30f514-cfe4ee98-d2fbba22-3b322171\n"
     ]
    }
   ],
   "source": [
    "prompt=\"Consolidation with air bronchogram in the left lower lobe is noted, which is more suggestive of pneumonia\" \n",
    "description=\"Consolidation\"\n",
    "nifti_file = '../data/nifti/examples/5_7_2_sample_0.nii.gz'\n",
    "nifti_to_dicom(nifti_file=nifti_file,\n",
    "               series_description=\"left lower\", \n",
    "               modality = \"AI\",\n",
    "               study_instance_uid='5.7',\n",
    "               series_instance_uid='5.7.2',\n",
    "               study_id='2', \n",
    "               patient_name=\"Consolidation\",\n",
    "               patient_id=\"patient_consolidation\",\n",
    "               description=description,\n",
    ")\n",
    "add_metadata_to_series('5.7.2', prompt, 'SeriesPrompt')"
   ]
  },
  {
   "cell_type": "code",
   "execution_count": 29,
   "metadata": {},
   "outputs": [
    {
     "name": "stdout",
     "output_type": "stream",
     "text": [
      "Store DICOM files in Folder: ../data/nifti/examples/5_7_3_sample_0\n",
      "Conversion complete. DICOM files are saved in ../data/nifti/examples/5_7_3_sample_0\n",
      "Uploading DICOM folder to Orthanc...\n",
      "Files Uploaded to Orthanc Server Localhost\n",
      "c4a2e824-f4117792-c81a16a5-85d68911-36075cfe\n"
     ]
    }
   ],
   "source": [
    "prompt=\"Consolidation with air bronchogram in the right lower lobe is noted, which is more suggestive of pneumonia\" \n",
    "description=\"Consolidation\"\n",
    "nifti_file = '../data/nifti/examples/5_7_3_sample_0.nii.gz'\n",
    "nifti_to_dicom(nifti_file=nifti_file,\n",
    "               series_description=\"right lower\", \n",
    "               modality = \"AI\",\n",
    "               study_instance_uid='5.7',\n",
    "               series_instance_uid='5.7.3',\n",
    "               study_id='3', \n",
    "               patient_name=\"Consolidation\",\n",
    "               patient_id=\"patient_consolidation\",\n",
    "               description=description,\n",
    ")\n",
    "add_metadata_to_series('5.7.3', prompt, 'SeriesPrompt')"
   ]
  },
  {
   "cell_type": "markdown",
   "metadata": {},
   "source": [
    "## 8. Groundglass"
   ]
  },
  {
   "cell_type": "markdown",
   "metadata": {},
   "source": [
    "### Generated"
   ]
  },
  {
   "cell_type": "code",
   "execution_count": 30,
   "metadata": {},
   "outputs": [
    {
     "name": "stdout",
     "output_type": "stream",
     "text": [
      "Store DICOM files in Folder: ../data/nifti/examples/5_8_1_sample_0\n",
      "Conversion complete. DICOM files are saved in ../data/nifti/examples/5_8_1_sample_0\n",
      "Uploading DICOM folder to Orthanc...\n",
      "Files Uploaded to Orthanc Server Localhost\n",
      "dc7d7c9f-c0240890-65c2db4e-2e0d6b83-91834130\n"
     ]
    }
   ],
   "source": [
    "prompt=\"There are no ground-glass opacities\" \n",
    "description=\"Groundglass\"\n",
    "nifti_file = '../data/nifti/examples/5_8_1_sample_0.nii.gz'\n",
    "nifti_to_dicom(nifti_file=nifti_file,\n",
    "               series_description=\"no\", \n",
    "               modality = \"AI\",\n",
    "               study_instance_uid='5.8',\n",
    "               series_instance_uid='5.8.1',\n",
    "               study_id='1', \n",
    "               patient_name=\"Groundglass\",\n",
    "               patient_id=\"patient_groundglass\",\n",
    "               description=description,\n",
    ")\n",
    "add_metadata_to_series('5.8.1', prompt, 'SeriesPrompt')"
   ]
  },
  {
   "cell_type": "code",
   "execution_count": 31,
   "metadata": {},
   "outputs": [
    {
     "name": "stdout",
     "output_type": "stream",
     "text": [
      "Store DICOM files in Folder: ../data/nifti/examples/5_8_2_sample_0\n",
      "Conversion complete. DICOM files are saved in ../data/nifti/examples/5_8_2_sample_0\n",
      "Uploading DICOM folder to Orthanc...\n",
      "Files Uploaded to Orthanc Server Localhost\n",
      "79dcc30f-3033c0a4-893e4664-c1e3b03d-45aa04ef\n"
     ]
    }
   ],
   "source": [
    "prompt=\"There are scattered patchy ground-glass opacities in both lungs, likely due to an infectious or inflammatory process\" \n",
    "description=\"Groundglass\"\n",
    "nifti_file = '../data/nifti/examples/5_8_2_sample_0.nii.gz'\n",
    "nifti_to_dicom(nifti_file=nifti_file,\n",
    "               series_description=\"both lungs\", \n",
    "               modality = \"AI\",\n",
    "               study_instance_uid='5.8',\n",
    "               series_instance_uid='5.8.2',\n",
    "               study_id='2', \n",
    "               patient_name=\"Groundglass\",\n",
    "               patient_id=\"patient_groundglass\",\n",
    "               description=description,\n",
    ")\n",
    "add_metadata_to_series('5.8.2', prompt, 'SeriesPrompt')"
   ]
  },
  {
   "cell_type": "markdown",
   "metadata": {},
   "source": [
    "## 9. Interstitial Lung Disease"
   ]
  },
  {
   "cell_type": "markdown",
   "metadata": {},
   "source": [
    "### Generated"
   ]
  },
  {
   "cell_type": "code",
   "execution_count": 32,
   "metadata": {},
   "outputs": [
    {
     "name": "stdout",
     "output_type": "stream",
     "text": [
      "Store DICOM files in Folder: ../data/nifti/examples/5_9_1_sample_0\n",
      "Conversion complete. DICOM files are saved in ../data/nifti/examples/5_9_1_sample_0\n",
      "Uploading DICOM folder to Orthanc...\n",
      "Files Uploaded to Orthanc Server Localhost\n",
      "a5039470-6c01d13e-efd4bdda-8d883395-5935dabe\n"
     ]
    }
   ],
   "source": [
    "prompt=\"No reticular opacities, honeycombing, or traction bronchiectasis in the periphery of both lung bases are seen\" \n",
    "description=\"Interstitial Lung Disease\"\n",
    "nifti_file = '../data/nifti/examples/5_9_1_sample_0.nii.gz'\n",
    "nifti_to_dicom(nifti_file=nifti_file,\n",
    "               series_description=\"no\", \n",
    "               modality = \"AI\",\n",
    "               study_instance_uid='5.9',\n",
    "               series_instance_uid='5.9.1',\n",
    "               study_id='1', \n",
    "               patient_name=\"Interstitial Lung Disease\",\n",
    "               patient_id=\"patient_interstitial\",\n",
    "               description=description,\n",
    ")\n",
    "add_metadata_to_series('5.9.1', prompt, 'SeriesPrompt')"
   ]
  },
  {
   "cell_type": "code",
   "execution_count": 33,
   "metadata": {},
   "outputs": [
    {
     "name": "stdout",
     "output_type": "stream",
     "text": [
      "Store DICOM files in Folder: ../data/nifti/examples/5_9_2_sample_0\n",
      "Conversion complete. DICOM files are saved in ../data/nifti/examples/5_9_2_sample_0\n",
      "Uploading DICOM folder to Orthanc...\n",
      "Files Uploaded to Orthanc Server Localhost\n",
      "ee3d2134-db057d5a-d6321a2c-d190f6bd-2a38103d\n"
     ]
    }
   ],
   "source": [
    "prompt=\"Reticular opacities, honeycombing, and traction bronchiectasis in the periphery of both lung bases are seen, suggestive of ILDs such as NSIP.\" \n",
    "description=\"Interstitial Lung Disease\"\n",
    "nifti_file = '../data/nifti/examples/5_9_2_sample_0.nii.gz'\n",
    "nifti_to_dicom(nifti_file=nifti_file,\n",
    "               series_description=\"no\", \n",
    "               modality = \"AI\",\n",
    "               study_instance_uid='5.9',\n",
    "               series_instance_uid='5.9.2',\n",
    "               study_id='2', \n",
    "               patient_name=\"Interstitial Lung Disease\",\n",
    "               patient_id=\"patient_interstitial\",\n",
    "               description=description,\n",
    ")\n",
    "add_metadata_to_series('5.9.2', prompt, 'SeriesPrompt')"
   ]
  },
  {
   "cell_type": "markdown",
   "metadata": {},
   "source": [
    "## 10. Mass"
   ]
  },
  {
   "cell_type": "markdown",
   "metadata": {},
   "source": [
    "## Generated"
   ]
  },
  {
   "cell_type": "code",
   "execution_count": 34,
   "metadata": {},
   "outputs": [
    {
     "name": "stdout",
     "output_type": "stream",
     "text": [
      "Store DICOM files in Folder: ../data/nifti/examples/5_10_1_sample_0\n",
      "Conversion complete. DICOM files are saved in ../data/nifti/examples/5_10_1_sample_0\n",
      "Uploading DICOM folder to Orthanc...\n",
      "Files Uploaded to Orthanc Server Localhost\n",
      "2947b21e-c8891739-54573bd0-f40e617f-7b63c46d\n"
     ]
    }
   ],
   "source": [
    "prompt=\"No irregular mass in the periphery of the right upper lobe\" \n",
    "description=\"Mass\"\n",
    "nifti_file = '../data/nifti/examples/5_10_1_sample_0.nii.gz'\n",
    "nifti_to_dicom(nifti_file=nifti_file,\n",
    "               series_description=\"no\", \n",
    "               modality = \"AI\",\n",
    "               study_instance_uid='5.10',\n",
    "               series_instance_uid='5.10.1',\n",
    "               study_id='1', \n",
    "               patient_name=\"Mass\",\n",
    "               patient_id=\"patient_mass\",\n",
    "               description=description,\n",
    ")\n",
    "add_metadata_to_series('5.10.1', prompt, 'SeriesPrompt')"
   ]
  },
  {
   "cell_type": "code",
   "execution_count": 35,
   "metadata": {},
   "outputs": [
    {
     "name": "stdout",
     "output_type": "stream",
     "text": [
      "Store DICOM files in Folder: ../data/nifti/examples/5_10_2_sample_0\n",
      "Conversion complete. DICOM files are saved in ../data/nifti/examples/5_10_2_sample_0\n",
      "Uploading DICOM folder to Orthanc...\n",
      "Files Uploaded to Orthanc Server Localhost\n",
      "1d78f61c-3725ccee-34ec7647-aef03e36-04c6b1c8\n"
     ]
    }
   ],
   "source": [
    "prompt=\"Here is a 3.4 x 2.5 cm irregular mass with central necrosis in the periphery of the right upper lobe\" \n",
    "description=\"Mass\"\n",
    "nifti_file = '../data/nifti/examples/5_10_2_sample_0.nii.gz'\n",
    "nifti_to_dicom(nifti_file=nifti_file,\n",
    "               series_description=\"3.4 x 2.5cm, right upper\", \n",
    "               modality = \"AI\",\n",
    "               study_instance_uid='5.10',\n",
    "               series_instance_uid='5.10.2',\n",
    "               study_id='2', \n",
    "               patient_name=\"Mass\",\n",
    "               patient_id=\"patient_mass\",\n",
    "               description=description,\n",
    ")\n",
    "add_metadata_to_series('5.10.2', prompt, 'SeriesPrompt')"
   ]
  },
  {
   "cell_type": "code",
   "execution_count": 36,
   "metadata": {},
   "outputs": [
    {
     "name": "stdout",
     "output_type": "stream",
     "text": [
      "Store DICOM files in Folder: ../data/nifti/examples/5_10_3_sample_0\n",
      "Conversion complete. DICOM files are saved in ../data/nifti/examples/5_10_3_sample_0\n",
      "Uploading DICOM folder to Orthanc...\n",
      "Files Uploaded to Orthanc Server Localhost\n",
      "91fe95fc-ef06fb4d-d7813a6a-e3a10b64-00c675cd\n"
     ]
    }
   ],
   "source": [
    "prompt=\"Here is a 3.4 x 2.5 cm irregular mass with central necrosis in the periphery of the left upper lobe\" \n",
    "description=\"Mass\"\n",
    "nifti_file = '../data/nifti/examples/5_10_3_sample_0.nii.gz'\n",
    "nifti_to_dicom(nifti_file=nifti_file,\n",
    "               series_description=\"3.4 x 2.5cm, left upper\", \n",
    "               modality = \"AI\",\n",
    "               study_instance_uid='5.10',\n",
    "               series_instance_uid='5.10.3',\n",
    "               study_id='3', \n",
    "               patient_name=\"Mass\",\n",
    "               patient_id=\"patient_mass\",\n",
    "               description=description,\n",
    ")\n",
    "add_metadata_to_series('5.10.3', prompt, 'SeriesPrompt')"
   ]
  },
  {
   "cell_type": "markdown",
   "metadata": {},
   "source": [
    "## 11. Cardiomegaly"
   ]
  },
  {
   "cell_type": "markdown",
   "metadata": {},
   "source": [
    "### Generated"
   ]
  },
  {
   "cell_type": "code",
   "execution_count": 37,
   "metadata": {},
   "outputs": [
    {
     "name": "stdout",
     "output_type": "stream",
     "text": [
      "Store DICOM files in Folder: ../data/nifti/examples/5_11_1_sample_0\n",
      "Conversion complete. DICOM files are saved in ../data/nifti/examples/5_11_1_sample_0\n",
      "Uploading DICOM folder to Orthanc...\n",
      "Files Uploaded to Orthanc Server Localhost\n",
      "02b3587f-893af069-2ab46aa4-d72f8025-55af985f\n"
     ]
    }
   ],
   "source": [
    "prompt=\"No cardiomegaly\" \n",
    "description=\"Cardiomegaly\"\n",
    "nifti_file = '../data/nifti/examples/5_11_1_sample_0.nii.gz'\n",
    "nifti_to_dicom(nifti_file=nifti_file,\n",
    "               series_description=\"no\", \n",
    "               modality = \"AI\",\n",
    "               study_instance_uid='5.11',\n",
    "               series_instance_uid='5.11.1',\n",
    "               study_id='1', \n",
    "               patient_name=\"Cardiomegaly\",\n",
    "               patient_id=\"patient_cardiomegaly\",\n",
    "               description=description,\n",
    ")\n",
    "add_metadata_to_series('5.11.1', prompt, 'SeriesPrompt')"
   ]
  },
  {
   "cell_type": "code",
   "execution_count": 38,
   "metadata": {},
   "outputs": [
    {
     "name": "stdout",
     "output_type": "stream",
     "text": [
      "Store DICOM files in Folder: ../data/nifti/examples/5_11_2_sample_0\n",
      "Conversion complete. DICOM files are saved in ../data/nifti/examples/5_11_2_sample_0\n",
      "Uploading DICOM folder to Orthanc...\n",
      "Files Uploaded to Orthanc Server Localhost\n",
      "cc01908a-ce738b39-b3c829a6-2d6161fd-c3473c97\n"
     ]
    }
   ],
   "source": [
    "prompt=\"Moderate cardiomegaly is evident\" \n",
    "description=\"Cardiomegaly\"\n",
    "nifti_file = '../data/nifti/examples/5_11_2_sample_0.nii.gz'\n",
    "nifti_to_dicom(nifti_file=nifti_file,\n",
    "               series_description=\"moderate\", \n",
    "               modality = \"AI\",\n",
    "               study_instance_uid='5.11',\n",
    "               series_instance_uid='5.11.2',\n",
    "               study_id='2', \n",
    "               patient_name=\"Cardiomegaly\",\n",
    "               patient_id=\"patient_cardiomegaly\",\n",
    "               description=description,\n",
    ")\n",
    "add_metadata_to_series('5.11.2', prompt, 'SeriesPrompt')"
   ]
  },
  {
   "cell_type": "code",
   "execution_count": 39,
   "metadata": {},
   "outputs": [
    {
     "name": "stdout",
     "output_type": "stream",
     "text": [
      "Store DICOM files in Folder: ../data/nifti/examples/5_11_3_sample_0\n",
      "Conversion complete. DICOM files are saved in ../data/nifti/examples/5_11_3_sample_0\n",
      "Uploading DICOM folder to Orthanc...\n",
      "Files Uploaded to Orthanc Server Localhost\n",
      "a6f514ac-1b37f9b2-75e3611e-1abb3669-30e64a0b\n"
     ]
    }
   ],
   "source": [
    "prompt=\"Severe cardiomegaly is evident\" \n",
    "description=\"Cardiomegaly\"\n",
    "nifti_file = '../data/nifti/examples/5_11_3_sample_0.nii.gz'\n",
    "nifti_to_dicom(nifti_file=nifti_file,\n",
    "               series_description=\"severe\", \n",
    "               modality = \"AI\",\n",
    "               study_instance_uid='5.11',\n",
    "               series_instance_uid='5.11.3',\n",
    "               study_id='3', \n",
    "               patient_name=\"Cardiomegaly\",\n",
    "               patient_id=\"patient_cardiomegaly\",\n",
    "               description=description,\n",
    ")\n",
    "add_metadata_to_series('5.11.3', prompt, 'SeriesPrompt')"
   ]
  },
  {
   "cell_type": "markdown",
   "metadata": {},
   "source": [
    "## 12. Bronchiectasis"
   ]
  },
  {
   "cell_type": "markdown",
   "metadata": {},
   "source": [
    "### Generated"
   ]
  },
  {
   "cell_type": "code",
   "execution_count": 40,
   "metadata": {},
   "outputs": [
    {
     "name": "stdout",
     "output_type": "stream",
     "text": [
      "Store DICOM files in Folder: ../data/nifti/examples/5_12_1_sample_0\n",
      "Conversion complete. DICOM files are saved in ../data/nifti/examples/5_12_1_sample_0\n",
      "Uploading DICOM folder to Orthanc...\n",
      "Files Uploaded to Orthanc Server Localhost\n",
      "3b1a5f59-4f35fe86-89ec6cc9-e11f0350-e5ed9fd1\n"
     ]
    }
   ],
   "source": [
    "prompt=\"No bronchiectasis is seen\" \n",
    "description=\"Bronchiectasis\"\n",
    "nifti_file = '../data/nifti/examples/5_12_1_sample_0.nii.gz'\n",
    "nifti_to_dicom(nifti_file=nifti_file,\n",
    "               series_description=\"no\", \n",
    "               modality = \"AI\",\n",
    "               study_instance_uid='5.12',\n",
    "               series_instance_uid='5.12.1',\n",
    "               study_id='1', \n",
    "               patient_name=\"Bronchiectasis\",\n",
    "               patient_id=\"patient_bronchiectasis\",\n",
    "               description=description,\n",
    ")\n",
    "add_metadata_to_series('5.12.1', prompt, 'SeriesPrompt')"
   ]
  },
  {
   "cell_type": "code",
   "execution_count": 41,
   "metadata": {},
   "outputs": [
    {
     "name": "stdout",
     "output_type": "stream",
     "text": [
      "Store DICOM files in Folder: ../data/nifti/examples/5_12_2_sample_0\n",
      "Conversion complete. DICOM files are saved in ../data/nifti/examples/5_12_2_sample_0\n",
      "Uploading DICOM folder to Orthanc...\n",
      "Files Uploaded to Orthanc Server Localhost\n",
      "e59ce369-605fabf4-fd6fe755-9f531219-c9b2a3a1\n"
     ]
    }
   ],
   "source": [
    "prompt=\"Cystic bronchiectasis is seen throughout both lungs, more prominently on the right.\" \n",
    "description=\"Bronchiectasis\"\n",
    "nifti_file = '../data/nifti/examples/5_12_2_sample_0.nii.gz'\n",
    "nifti_to_dicom(nifti_file=nifti_file,\n",
    "               series_description=\"both, more prominent right\", \n",
    "               modality = \"AI\",\n",
    "               study_instance_uid='5.12',\n",
    "               series_instance_uid='5.12.2',\n",
    "               study_id='2', \n",
    "               patient_name=\"Bronchiectasis\",\n",
    "               patient_id=\"patient_bronchiectasis\",\n",
    "               description=description,\n",
    ")\n",
    "add_metadata_to_series('5.12.2', prompt, 'SeriesPrompt')"
   ]
  },
  {
   "cell_type": "markdown",
   "metadata": {},
   "source": [
    "## 13. Pulmonary Edema"
   ]
  },
  {
   "cell_type": "markdown",
   "metadata": {},
   "source": [
    "### Generated"
   ]
  },
  {
   "cell_type": "code",
   "execution_count": 42,
   "metadata": {},
   "outputs": [
    {
     "name": "stdout",
     "output_type": "stream",
     "text": [
      "Store DICOM files in Folder: ../data/nifti/examples/5_13_1_sample_0\n",
      "Conversion complete. DICOM files are saved in ../data/nifti/examples/5_13_1_sample_0\n",
      "Uploading DICOM folder to Orthanc...\n",
      "Files Uploaded to Orthanc Server Localhost\n",
      "2f178e51-c5b2feee-7f899fdf-abb2e4c9-f8ad1d20\n"
     ]
    }
   ],
   "source": [
    "prompt=\"No pulmonary edema is seen\" \n",
    "description=\"Pulmonary Edema\"\n",
    "nifti_file = '../data/nifti/examples/5_13_1_sample_0.nii.gz'\n",
    "nifti_to_dicom(nifti_file=nifti_file,\n",
    "               series_description=\"no\", \n",
    "               modality = \"AI\",\n",
    "               study_instance_uid='5.13',\n",
    "               series_instance_uid='5.13.1',\n",
    "               study_id='1', \n",
    "               patient_name=\"Pulmonary Edema\",\n",
    "               patient_id=\"patient_edema\",\n",
    "               description=description,\n",
    ")\n",
    "add_metadata_to_series('5.13.1', prompt, 'SeriesPrompt')"
   ]
  },
  {
   "cell_type": "code",
   "execution_count": 43,
   "metadata": {},
   "outputs": [
    {
     "name": "stdout",
     "output_type": "stream",
     "text": [
      "Store DICOM files in Folder: ../data/nifti/examples/5_13_2_sample_0\n",
      "Conversion complete. DICOM files are saved in ../data/nifti/examples/5_13_2_sample_0\n",
      "Uploading DICOM folder to Orthanc...\n",
      "Files Uploaded to Orthanc Server Localhost\n",
      "1292bfa3-5b9cc68c-a8c227a8-ca5180ae-5e32623b\n"
     ]
    }
   ],
   "source": [
    "prompt=\"Bilateral perihilar airspace opacities, interlobular septal thickening, right-sided pleural effusion, and severe cardiomegaly are seen, consistent with cardiogenic pulmonary edema\" \n",
    "description=\"Pulmonary Edema\"\n",
    "nifti_file = '../data/nifti/examples/5_13_2_sample_0.nii.gz'\n",
    "nifti_to_dicom(nifti_file=nifti_file,\n",
    "               series_description=\"pulmonary edema\", \n",
    "               modality = \"AI\",\n",
    "               study_instance_uid='5.13',\n",
    "               series_instance_uid='5.13.2',\n",
    "               study_id='2', \n",
    "               patient_name=\"Pulmonary Edema\",\n",
    "               patient_id=\"patient_edema\",\n",
    "               description=description,\n",
    ")\n",
    "add_metadata_to_series('5.13.2', prompt, 'SeriesPrompt')"
   ]
  },
  {
   "cell_type": "markdown",
   "metadata": {},
   "source": [
    "## 14. Fracture"
   ]
  },
  {
   "cell_type": "markdown",
   "metadata": {},
   "source": [
    "### Generated"
   ]
  },
  {
   "cell_type": "code",
   "execution_count": 44,
   "metadata": {},
   "outputs": [
    {
     "name": "stdout",
     "output_type": "stream",
     "text": [
      "Store DICOM files in Folder: ../data/nifti/examples/5_14_1_sample_0\n",
      "Conversion complete. DICOM files are saved in ../data/nifti/examples/5_14_1_sample_0\n",
      "Uploading DICOM folder to Orthanc...\n",
      "Files Uploaded to Orthanc Server Localhost\n",
      "06acc836-318e7de2-9ef71b70-4ed8d493-84bb9eb0\n"
     ]
    }
   ],
   "source": [
    "prompt=\"No fracture lines seen\" \n",
    "description=\"Fracture\"\n",
    "nifti_file = '../data/nifti/examples/5_14_1_sample_0.nii.gz'\n",
    "nifti_to_dicom(nifti_file=nifti_file,\n",
    "               series_description=\"no\", \n",
    "               modality = \"AI\",\n",
    "               study_instance_uid='5.14',\n",
    "               series_instance_uid='5.14.1',\n",
    "               study_id='1', \n",
    "               patient_name=\"Fracture\",\n",
    "               patient_id=\"patient_fracture\",\n",
    "               description=description,\n",
    ")\n",
    "add_metadata_to_series('5.14.1', prompt, 'SeriesPrompt')"
   ]
  },
  {
   "cell_type": "code",
   "execution_count": 45,
   "metadata": {},
   "outputs": [
    {
     "name": "stdout",
     "output_type": "stream",
     "text": [
      "Store DICOM files in Folder: ../data/nifti/examples/5_14_2_sample_0\n",
      "Conversion complete. DICOM files are saved in ../data/nifti/examples/5_14_2_sample_0\n",
      "Uploading DICOM folder to Orthanc...\n",
      "Files Uploaded to Orthanc Server Localhost\n",
      "0e2abdfc-149a621f-3aff0c93-479d9feb-56c418fc\n"
     ]
    }
   ],
   "source": [
    "prompt=\"Fracture lines in the anterior arch of the 6th and 8th ribs, and the lateral arch of the 10th and 11th ribs on the right side, with mild displacement, are seen\" \n",
    "description=\"Fracture\"\n",
    "nifti_file = '../data/nifti/examples/5_14_2_sample_0.nii.gz'\n",
    "nifti_to_dicom(nifti_file=nifti_file,\n",
    "               series_description=\"no\", \n",
    "               modality = \"AI\",\n",
    "               study_instance_uid='5.14',\n",
    "               series_instance_uid='5.14.2',\n",
    "               study_id='2', \n",
    "               patient_name=\"Fracture\",\n",
    "               patient_id=\"patient_fracture\",\n",
    "               description=description,\n",
    ")\n",
    "add_metadata_to_series('5.14.2', prompt, 'SeriesPrompt')"
   ]
  },
  {
   "cell_type": "markdown",
   "metadata": {},
   "source": [
    "## 15. Pneumothorax"
   ]
  },
  {
   "cell_type": "markdown",
   "metadata": {},
   "source": [
    "### Generated"
   ]
  },
  {
   "cell_type": "code",
   "execution_count": 46,
   "metadata": {},
   "outputs": [
    {
     "name": "stdout",
     "output_type": "stream",
     "text": [
      "Store DICOM files in Folder: ../data/nifti/examples/5_15_1_sample_0\n",
      "Conversion complete. DICOM files are saved in ../data/nifti/examples/5_15_1_sample_0\n",
      "Uploading DICOM folder to Orthanc...\n",
      "Files Uploaded to Orthanc Server Localhost\n",
      "8763d72d-068accd6-ed9ad837-6f0dd53e-cadc48c0\n"
     ]
    }
   ],
   "source": [
    "prompt=\"No pneumothorax of the right lung is seen\" \n",
    "description=\"Pneumothorax\"\n",
    "nifti_file = '../data/nifti/examples/5_15_1_sample_0.nii.gz'\n",
    "nifti_to_dicom(nifti_file=nifti_file,\n",
    "               series_description=\"no\", \n",
    "               modality = \"AI\",\n",
    "               study_instance_uid='5.15',\n",
    "               series_instance_uid='5.15.1',\n",
    "               study_id='1', \n",
    "               patient_name=\"Pneumothorax\",\n",
    "               patient_id=\"patient_pneumothorax\",\n",
    "               description=description,\n",
    ")\n",
    "add_metadata_to_series('5.15.1', prompt, 'SeriesPrompt')"
   ]
  },
  {
   "cell_type": "code",
   "execution_count": 47,
   "metadata": {},
   "outputs": [
    {
     "name": "stdout",
     "output_type": "stream",
     "text": [
      "Store DICOM files in Folder: ../data/nifti/examples/5_15_2_sample_0\n",
      "Conversion complete. DICOM files are saved in ../data/nifti/examples/5_15_2_sample_0\n",
      "Uploading DICOM folder to Orthanc...\n",
      "Files Uploaded to Orthanc Server Localhost\n",
      "c33e3797-9c96da74-babafee7-97de491c-bcf9cfee\n"
     ]
    }
   ],
   "source": [
    "prompt=\"Moderate right-sided pneumothorax with passive partial collapse of the right lung is seen\" \n",
    "description=\"Pneumothorax\"\n",
    "nifti_file = '../data/nifti/examples/5_15_2_sample_0.nii.gz'\n",
    "nifti_to_dicom(nifti_file=nifti_file,\n",
    "               series_description=\"moderate\", \n",
    "               modality = \"AI\",\n",
    "               study_instance_uid='5.15',\n",
    "               series_instance_uid='5.15.2',\n",
    "               study_id='2', \n",
    "               patient_name=\"Pneumothorax\",\n",
    "               patient_id=\"patient_pneumothorax\",\n",
    "               description=description,\n",
    ")\n",
    "add_metadata_to_series('5.15.2', prompt, 'SeriesPrompt')"
   ]
  },
  {
   "cell_type": "code",
   "execution_count": 48,
   "metadata": {},
   "outputs": [
    {
     "name": "stdout",
     "output_type": "stream",
     "text": [
      "Store DICOM files in Folder: ../data/nifti/examples/5_15_3_sample_0\n",
      "Conversion complete. DICOM files are saved in ../data/nifti/examples/5_15_3_sample_0\n",
      "Uploading DICOM folder to Orthanc...\n",
      "Files Uploaded to Orthanc Server Localhost\n",
      "f7af4264-9d28fe63-a4bf40f5-93a016f3-a8f3ff61\n"
     ]
    }
   ],
   "source": [
    "prompt=\"A large right-sided pneumothorax with significant collapse of the right lung is seen\" \n",
    "description=\"Pneumothorax\"\n",
    "nifti_file = '../data/nifti/examples/5_15_3_sample_0.nii.gz'\n",
    "nifti_to_dicom(nifti_file=nifti_file,\n",
    "               series_description=\"significant\", \n",
    "               modality = \"AI\",\n",
    "               study_instance_uid='5.15',\n",
    "               series_instance_uid='5.15.3',\n",
    "               study_id='3', \n",
    "               patient_name=\"Pneumothorax\",\n",
    "               patient_id=\"patient_pneumothorax\",\n",
    "               description=description,\n",
    ")\n",
    "add_metadata_to_series('5.15.3', prompt, 'SeriesPrompt')"
   ]
  }
 ],
 "metadata": {
  "kernelspec": {
   "display_name": "viewer",
   "language": "python",
   "name": "python3"
  },
  "language_info": {
   "codemirror_mode": {
    "name": "ipython",
    "version": 3
   },
   "file_extension": ".py",
   "mimetype": "text/x-python",
   "name": "python",
   "nbconvert_exporter": "python",
   "pygments_lexer": "ipython3",
   "version": "3.12.4"
  }
 },
 "nbformat": 4,
 "nbformat_minor": 2
}
